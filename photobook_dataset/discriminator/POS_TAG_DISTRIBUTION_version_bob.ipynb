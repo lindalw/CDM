{
 "cells": [
  {
   "cell_type": "code",
   "execution_count": 1,
   "metadata": {},
   "outputs": [
    {
     "name": "stderr",
     "output_type": "stream",
     "text": [
      "[nltk_data] Downloading package stopwords to\n",
      "[nltk_data]     C:\\Users\\lolab\\AppData\\Roaming\\nltk_data...\n",
      "[nltk_data]   Package stopwords is already up-to-date!\n"
     ]
    },
    {
     "name": "stdout",
     "output_type": "stream",
     "text": [
      "Initialising vocab from file.\n"
     ]
    }
   ],
   "source": [
    "import gensim.downloader as api\n",
    "from nltk.corpus import stopwords\n",
    "import nltk\n",
    "nltk.download('stopwords')\n",
    "from sklearn.decomposition import PCA\n",
    "\n",
    "import numpy as np\n",
    "import pickle\n",
    "import json\n",
    "import copy\n",
    "import pandas as pd\n",
    "from tqdm import tqdm\n",
    "import scipy.stats as stats\n",
    "\n",
    "\n",
    "from Vocab import Vocab\n",
    "vocab = Vocab('data/vocab.csv', 3)\n",
    "from get_predictions import get_predictions\n",
    "from helpers import *\n",
    "\n",
    "from ChainDataset import ChainDataset\n",
    "\n",
    "chain_test_set = ChainDataset(\n",
    "    data_dir='data/',\n",
    "    segment_file='segments.json',\n",
    "    chain_file='test_chains.json',\n",
    "    vectors_file='vectors.json',\n",
    "    split='test'\n",
    ")\n",
    "\n",
    "from SegmentDataset import SegmentDataset\n",
    "\n",
    "segment_test_set = SegmentDataset(\n",
    "    data_dir='data/',\n",
    "    segment_file='segments.json',\n",
    "    vectors_file='vectors.json',\n",
    "    split='test'\n",
    ")\n"
   ]
  },
  {
   "cell_type": "markdown",
   "metadata": {},
   "source": [
    "## POS tags distribution\n"
   ]
  },
  {
   "cell_type": "code",
   "execution_count": 2,
   "metadata": {},
   "outputs": [
    {
     "name": "stderr",
     "output_type": "stream",
     "text": [
      "[nltk_data] Downloading package punkt to\n",
      "[nltk_data]     C:\\Users\\lolab\\AppData\\Roaming\\nltk_data...\n",
      "[nltk_data]   Package punkt is already up-to-date!\n",
      "[nltk_data] Downloading package averaged_perceptron_tagger to\n",
      "[nltk_data]     C:\\Users\\lolab\\AppData\\Roaming\\nltk_data...\n",
      "[nltk_data]   Package averaged_perceptron_tagger is already up-to-\n",
      "[nltk_data]       date!\n",
      "[nltk_data] Downloading package tagsets to\n",
      "[nltk_data]     C:\\Users\\lolab\\AppData\\Roaming\\nltk_data...\n",
      "[nltk_data]   Package tagsets is already up-to-date!\n",
      "[nltk_data] Downloading package universal_tagset to\n",
      "[nltk_data]     C:\\Users\\lolab\\AppData\\Roaming\\nltk_data...\n",
      "[nltk_data]   Package universal_tagset is already up-to-date!\n"
     ]
    },
    {
     "data": {
      "text/plain": [
       "' explanation:\\n\\nADJ\\tadjective\\tnew, good, high, special, big, local\\nADP\\tadposition\\ton, of, at, with, by, into, under\\nADV\\tadverb\\treally, already, still, early, now\\nCONJ\\tconjunction\\tand, or, but, if, while, although\\nDET\\tdeterminer, article\\tthe, a, some, most, every, no, which\\nNOUN\\tnoun\\tyear, home, costs, time, Africa\\nNUM\\tnumeral\\ttwenty-four, fourth, 1991, 14:24\\nPRT\\tparticle\\tat, on, out, over per, that, up, with\\nPRON\\tpronoun\\the, their, her, its, my, I, us\\nVERB\\tverb\\tis, say, told, given, playing, would\\n.\\tpunctuation marks\\t. , ; !\\nX\\tother\\tersatz, esprit, dunno, gr8, univeristy\\n\\n'"
      ]
     },
     "execution_count": 2,
     "metadata": {},
     "output_type": "execute_result"
    }
   ],
   "source": [
    "from collections import Counter\n",
    "import nltk\n",
    "import pickle\n",
    "from nltk import word_tokenize\n",
    "from nltk.tag import pos_tag\n",
    "nltk.download('punkt')\n",
    "nltk.download('averaged_perceptron_tagger')\n",
    "nltk.download('tagsets')\n",
    "nltk.download('universal_tagset')\n",
    "\n",
    "import matplotlib\n",
    "import matplotlib.pyplot as plt\n",
    "\n",
    "with open('oov_dictionary.pickle', 'rb') as f:\n",
    "    oov_dict = pickle.load(f)\n",
    "\n",
    "top_10 = ['NOUN', 'DET', 'VERB', 'ADP', 'ADJ', '.', 'ADV', 'NUM', 'PRON', 'CONJ']\n",
    "top_4 = ['NOUN', 'VERB', 'ADJ', 'ADV']\n",
    "\n",
    "''' explanation:\n",
    "\n",
    "ADJ\tadjective\tnew, good, high, special, big, local\n",
    "ADP\tadposition\ton, of, at, with, by, into, under\n",
    "ADV\tadverb\treally, already, still, early, now\n",
    "CONJ\tconjunction\tand, or, but, if, while, although\n",
    "DET\tdeterminer, article\tthe, a, some, most, every, no, which\n",
    "NOUN\tnoun\tyear, home, costs, time, Africa\n",
    "NUM\tnumeral\ttwenty-four, fourth, 1991, 14:24\n",
    "PRT\tparticle\tat, on, out, over per, that, up, with\n",
    "PRON\tpronoun\the, their, her, its, my, I, us\n",
    "VERB\tverb\tis, say, told, given, playing, would\n",
    ".\tpunctuation marks\t. , ; !\n",
    "X\tother\tersatz, esprit, dunno, gr8, univeristy\n",
    "\n",
    "'''\n",
    "\n"
   ]
  },
  {
   "cell_type": "code",
   "execution_count": 7,
   "metadata": {
    "scrolled": true
   },
   "outputs": [
    {
     "name": "stdout",
     "output_type": "stream",
     "text": [
      "loaded model: No history\n",
      "Initialising vocab from file.\n",
      "vocab len 3424\n",
      "Initialising vocab from file.\n",
      "Loaded seg2ranks and idlist\n",
      "params. normalize=True, mask=True, weight=5.5, weighting=True, batchsize=1, breaking=False\n",
      "Dataparams. data_dir=./data, segmentfile=segments.json, vectorfile=vectors.json, chains_file=chains.json\n",
      "segment dataset with segments.json vectors.json test\n",
      "history dataset with test_segments.json vectors.json test_chains.json test\n",
      "processing test\n",
      "\n",
      "Start prediction\n",
      "predict no history\n",
      "{'segment': [5, 212, 4, 166, 5, 12, 22, 782, 29, 234, 213, 10, 4, 416, 14, 12, 22, 7, 6, 49, 11, 6, 155, 295, 11, 6, 811, 16, 9, 95, 10, 5, 17, 8, 12], 'image_set': ['93469', '380128', '14238', '259745', '524866', '341060', '483794', '96757'], 'targets': [5], 'length': 35, 'preds': tensor([[[0.],\n",
      "         [0.],\n",
      "         [0.],\n",
      "         [0.],\n",
      "         [0.],\n",
      "         [0.],\n",
      "         [0.],\n",
      "         [0.]]], device='cuda:0'), 'loss': tensor(4.9204, device='cuda:0'), 'ranks': [0]}\n",
      "getting predicitons took 48.365341901779175 seconds\n",
      "loaded model: History\n",
      "Initialising vocab from file.\n",
      "vocab len 3424\n",
      "Initialising vocab from file.\n",
      "Loaded seg2ranks and idlist\n",
      "params. normalize=True, mask=True, weight=5.5, weighting=True, batchsize=1, breaking=False\n",
      "Dataparams. data_dir=./data, segmentfile=segments.json, vectorfile=vectors.json, chains_file=chains.json\n",
      "segment dataset with segments.json vectors.json test\n",
      "history dataset with test_segments.json vectors.json test_chains.json test\n",
      "processing test\n",
      "\n",
      "Start prediction\n",
      "predicting datapoint 0 out of 6801\n",
      "predicting datapoint 500 out of 6801\n",
      "predicting datapoint 1000 out of 6801\n",
      "predicting datapoint 1500 out of 6801\n",
      "predicting datapoint 2000 out of 6801\n",
      "predicting datapoint 2500 out of 6801\n",
      "predicting datapoint 3000 out of 6801\n",
      "predicting datapoint 3500 out of 6801\n",
      "predicting datapoint 4000 out of 6801\n",
      "predicting datapoint 4500 out of 6801\n",
      "predicting datapoint 5000 out of 6801\n",
      "predicting datapoint 5500 out of 6801\n",
      "predicting datapoint 6000 out of 6801\n",
      "predicting datapoint 6500 out of 6801\n",
      "getting predicitons took 136.69419765472412 seconds\n",
      "[4, 12, 22, 7, 21, 11, 294, 16, 9, 945, 10, 5, 13, 8, 12, 31] [4, 12, 22, 7, 21, 11, 294, 16, 9, 945, 10, 5, 13, 8, 12, 31]\n",
      "No history\n"
     ]
    },
    {
     "name": "stderr",
     "output_type": "stream",
     "text": [
      "100%|█████████████████████████████████████████████████████████████████████████████████████████████████████████████████████████████████████████████████████████████████████████| 6801/6801 [00:01<00:00, 4074.28it/s]\n"
     ]
    },
    {
     "name": "stdout",
     "output_type": "stream",
     "text": [
      "History\n"
     ]
    },
    {
     "name": "stderr",
     "output_type": "stream",
     "text": [
      "100%|█████████████████████████████████████████████████████████████████████████████████████████████████████████████████████████████████████████████████████████████████████████| 6801/6801 [00:01<00:00, 4256.88it/s]\n"
     ]
    },
    {
     "data": {
      "text/plain": [
       "(<SegmentDataset.SegmentDataset at 0x2694c8eff88>,\n",
       " <HistoryDataset.HistoryDataset at 0x2694bde5dc8>)"
      ]
     },
     "execution_count": 7,
     "metadata": {},
     "output_type": "execute_result"
    }
   ],
   "source": [
    "dataset_pred_no_hist, dataset_pred_hist_cp, conditions_inds, condition_seg_hist, dataframe = get_pred_datasets_orig()\n",
    "# dataset_pred_no_hist, dataset_pred_hist_cp, conditions_inds, condition_seg_hist, dataframe\n",
    "\n",
    "dataset_pred_no_hist, dataset_pred_hist_cp"
   ]
  },
  {
   "cell_type": "code",
   "execution_count": 5,
   "metadata": {},
   "outputs": [
    {
     "data": {
      "text/plain": [
       "{'1': [0, 0, 0, 0, 0, 0],\n",
       " '2': [0, 0, 0, 0, 0, 0],\n",
       " '3': [0, 0, 0, 0, 0, 0],\n",
       " '4': [0, 0, 0, 0, 0, 0],\n",
       " '5': [0, 0, 0, 0, 0, 0]}"
      ]
     },
     "execution_count": 5,
     "metadata": {},
     "output_type": "execute_result"
    }
   ],
   "source": [
    "# prepare the dicts. so for every group there are 5 rounds with a list\n",
    "hT_nhF = {} \n",
    "hT_nhT = {}\n",
    "hF_nhF = {}\n",
    "hF_nhT = {}\n",
    "dict_groups = [hT_nhF, hT_nhT, hF_nhF, hF_nhT]\n",
    "rounds = ['1', '2', '3', '4', '5']\n",
    "index = [0, 0, 0, 0, 0, 0]\n",
    "\n",
    "for group in dict_groups:\n",
    "    for round in rounds:\n",
    "        group[round] = index\n",
    "        \n",
    "hT_nhF"
   ]
  },
  {
   "cell_type": "markdown",
   "metadata": {},
   "source": [
    "## Ratio content words per round"
   ]
  },
  {
   "cell_type": "code",
   "execution_count": 6,
   "metadata": {},
   "outputs": [
    {
     "ename": "NameError",
     "evalue": "name 'condition_seg_hist' is not defined",
     "output_type": "error",
     "traceback": [
      "\u001b[1;31m---------------------------------------------------------------------------\u001b[0m",
      "\u001b[1;31mNameError\u001b[0m                                 Traceback (most recent call last)",
      "\u001b[1;32m<ipython-input-6-eb5b35921b9e>\u001b[0m in \u001b[0;36m<module>\u001b[1;34m\u001b[0m\n\u001b[0;32m     26\u001b[0m \u001b[1;33m\u001b[0m\u001b[0m\n\u001b[0;32m     27\u001b[0m \u001b[1;32mfor\u001b[0m \u001b[0mdict_name\u001b[0m\u001b[1;33m,\u001b[0m \u001b[0mcurrent_dict\u001b[0m \u001b[1;32min\u001b[0m \u001b[0mzip\u001b[0m\u001b[1;33m(\u001b[0m\u001b[0mdict_names\u001b[0m\u001b[1;33m,\u001b[0m \u001b[0mdictionaries\u001b[0m\u001b[1;33m)\u001b[0m\u001b[1;33m:\u001b[0m\u001b[1;33m\u001b[0m\u001b[1;33m\u001b[0m\u001b[0m\n\u001b[1;32m---> 28\u001b[1;33m     \u001b[1;32mfor\u001b[0m \u001b[0msegment\u001b[0m \u001b[1;32min\u001b[0m \u001b[0mcondition_seg_hist\u001b[0m\u001b[1;33m[\u001b[0m\u001b[0mdict_name\u001b[0m\u001b[1;33m]\u001b[0m\u001b[1;33m:\u001b[0m\u001b[1;33m\u001b[0m\u001b[1;33m\u001b[0m\u001b[0m\n\u001b[0m\u001b[0;32m     29\u001b[0m         \u001b[0mdata\u001b[0m \u001b[1;33m=\u001b[0m \u001b[0mcondition_seg_hist\u001b[0m\u001b[1;33m[\u001b[0m\u001b[0mdict_name\u001b[0m\u001b[1;33m]\u001b[0m\u001b[1;33m[\u001b[0m\u001b[0msegment\u001b[0m\u001b[1;33m]\u001b[0m\u001b[1;33m\u001b[0m\u001b[1;33m\u001b[0m\u001b[0m\n\u001b[0;32m     30\u001b[0m         \u001b[1;32mfor\u001b[0m \u001b[0mkey\u001b[0m\u001b[1;33m,\u001b[0m \u001b[0mvalue\u001b[0m \u001b[1;32min\u001b[0m \u001b[0mdata\u001b[0m\u001b[1;33m.\u001b[0m\u001b[0mitems\u001b[0m\u001b[1;33m(\u001b[0m\u001b[1;33m)\u001b[0m\u001b[1;33m:\u001b[0m\u001b[1;33m\u001b[0m\u001b[1;33m\u001b[0m\u001b[0m\n",
      "\u001b[1;31mNameError\u001b[0m: name 'condition_seg_hist' is not defined"
     ]
    }
   ],
   "source": [
    "# prepare the dicts. so for every group there are 5 rounds with a list\n",
    "hT_nhF = {} \n",
    "hT_nhT = {}\n",
    "hF_nhF = {}\n",
    "hF_nhT = {}\n",
    "dictionaries = [hT_nhF, hT_nhT, hF_nhF, hF_nhT]\n",
    "dict_names = ['hT_nhF', 'hT_nhT', 'hF_nhF', 'hF_nhT']\n",
    "rounds = ['1', '2', '3', '4', '5']\n",
    "\n",
    "for group in dictionaries:\n",
    "    for round in rounds:\n",
    "        group[round] = [0, 0, 0, 0, 0, 0]\n",
    "\n",
    "# hT_nhF[1] = 10\n",
    "\n",
    "def update_dict(candidate_dict, position, value):\n",
    "    \n",
    "    roundi = str(value['round'])\n",
    "    current_value = hT_nhF[roundi]\n",
    "    current_value[position] = current_value[position] + amount[0]\n",
    "\n",
    "    candidate_dict[roundi] = current_value\n",
    "    \n",
    "    return candidate_dict\n",
    "\n",
    "        \n",
    "for dict_name, current_dict in zip(dict_names, dictionaries):\n",
    "    for segment in condition_seg_hist[dict_name]:\n",
    "        data = condition_seg_hist[dict_name][segment]\n",
    "        for key, value in data.items():\n",
    "\n",
    "            print(\"key\", key)\n",
    "            print(\"value\", value)\n",
    "            current_sentence = vocab.decode(value['current_seg'])\n",
    "            try:\n",
    "                current_sentence.remove('-A-')\n",
    "                current_sentence.remove('-B-')\n",
    "            except:\n",
    "                None\n",
    "\n",
    "            tags = sentence_to_pos_tags(current_sentence)\n",
    "\n",
    "            for tag, amount in tags.items():\n",
    "\n",
    "                if tag == \"NOUN\":\n",
    "                    update_dict(current_dict, 0, value)\n",
    "\n",
    "\n",
    "\n",
    "# # #             if tag == \"VERB\"\n",
    "# # #             if tag == \"ADV\"\n",
    "# # #             if tag == \"ADJ\"\n",
    "# # #             print(\"TAG\", tag, amount[0])\n",
    "#             # #         ht_nhF['round'] \n",
    "\n"
   ]
  },
  {
   "cell_type": "markdown",
   "metadata": {},
   "source": [
    "## POS TAG DISTRIBUTION: "
   ]
  },
  {
   "cell_type": "code",
   "execution_count": 18,
   "metadata": {
    "scrolled": true
   },
   "outputs": [],
   "source": [
    "def pos_tag_distribution_per_group(group, condition_seg_hist, vocab):\n",
    "    segments = list(condition_seg_hist[group])\n",
    "    for segment in tqdm(segments):\n",
    "        if condition_seg_hist[group][segment] == {}:\n",
    "                continue\n",
    "\n",
    "        # Get sentences per segment\n",
    "        first_seg, current_seg = convert_to_sentences(segment, condition_seg_hist[group], vocab)\n",
    "        first_sentence_dict = sentence_to_pos_tags(first_seg)\n",
    "        current_sentence_dict = sentence_to_pos_tags(current_seg)\n",
    "\n",
    "        # Update dicts\n",
    "        update_dict(first_sentence_dict, total_first_seg_dict)\n",
    "        update_dict(current_sentence_dict, total_current_dict)\n",
    "\n",
    "    return total_first_seg_dict, total_current_dict\n",
    "\n",
    "def convert_to_sentences(segment, dataset, vocab):\n",
    "          \n",
    "    # Decode first and current sentence \n",
    "    first_seg = list(dataset[segment].values())[0]['first_seg']\n",
    "\n",
    "    current_seg = list(dataset[segment].values())[0]['current_seg']\n",
    "    dec_first_seg = vocab.decode(first_seg)\n",
    "    dec_current_seg = vocab.decode(current_seg)\n",
    "    \n",
    "    return dec_first_seg, dec_current_seg\n",
    "\n",
    "def update_dict(new_dict, total_dict):\n",
    "    for key, value in new_dict.items():\n",
    "        new_key = key\n",
    "        new_value = value\n",
    "\n",
    "        for key, value in total_dict.items():\n",
    "            if key == new_key:\n",
    "                current_value = total_dict[key] \n",
    "                update_value = current_value + new_value[0]\n",
    "                total_dict[key] = update_value\n",
    "                \n",
    "    return None\n",
    "\n",
    "def dict_to_result(first_seg_dict, group, result, place): \n",
    "    #   convert dict to list for analysis\n",
    "    \n",
    "    dict_list = []\n",
    "    total = 0\n",
    "    for key, value in first_seg_dict.items():\n",
    "        temp = [value,key]\n",
    "        total += value\n",
    "        dict_list.append(temp)\n",
    "    \n",
    "    # Convert to percentages\n",
    "    for tag in dict_list:\n",
    "        tag[0] = tag[0] / total\n",
    "    \n",
    "    dict_list.sort(reverse = True)\n",
    "    group = group + \"_\" +  place\n",
    "    \n",
    "    result[group] = dict_list\n",
    "    \n",
    "    return result\n",
    "\n",
    "\n",
    "def sentence_to_pos_tags(sentence):\n",
    "    \n",
    "    lower_case_sentence = []\n",
    "    correct_sentence = [] \n",
    "    pos_tags = []\n",
    "    \n",
    "\n",
    "#   lower the sentences\n",
    "    for word in sentence:\n",
    "        lower_case_sentence.append(word.lower())\n",
    "    \n",
    "#   check if word is misspelled, the oov_dict can maybe corrrect that\n",
    "    for word in lower_case_sentence:\n",
    "\n",
    "        if word not in oov_dict:\n",
    "            correct_sentence.append(word)\n",
    "        else:\n",
    "            correct_sentence.append(oov_dict[word])\n",
    "\n",
    "    # Tag the sentence , so for every sentence got the pos tags\n",
    "    try:\n",
    "        pos_tags += [word[1] for word in pos_tag(correct_sentence, tagset='universal')]\n",
    "\n",
    "    except:\n",
    "        None\n",
    "\n",
    "        \n",
    "    pos_tag_dict = dict()       \n",
    "    for key,value in dict(Counter(pos_tags)).items():\n",
    "        pos_tag_dict[key] = [value]  \n",
    "\n",
    "    return pos_tag_dict\n",
    " "
   ]
  },
  {
   "cell_type": "code",
   "execution_count": 19,
   "metadata": {},
   "outputs": [
    {
     "name": "stderr",
     "output_type": "stream",
     "text": [
      "100%|████████████████████████████████████████████████████████████████████████████████████████████████████████████████████████████████████████████████████████████████████████████| 112/112 [00:00<00:00, 381.99it/s]\n",
      "100%|██████████████████████████████████████████████████████████████████████████████████████████████████████████████████████████████████████████████████████████████████████████| 1702/1702 [00:03<00:00, 559.40it/s]\n",
      "100%|████████████████████████████████████████████████████████████████████████████████████████████████████████████████████████████████████████████████████████████████████████████| 248/248 [00:00<00:00, 616.62it/s]\n",
      "100%|████████████████████████████████████████████████████████████████████████████████████████████████████████████████████████████████████████████████████████████████████████████| 121/121 [00:00<00:00, 705.56it/s]\n"
     ]
    }
   ],
   "source": [
    "groups = ['hT_nhF', 'hT_nhT', 'hF_nhF','hF_nhT']\n",
    "\n",
    "result = {}\n",
    "for group in groups:\n",
    "    \n",
    "    total_first_seg_dict = {\n",
    "        'NOUN': 0,\n",
    "        'DET': 0,\n",
    "        'VERB': 0,\n",
    "        'ADP': 0,\n",
    "        'ADJ': 0,\n",
    "        '.': 0,\n",
    "        'ADV': 0,\n",
    "        'NUM': 0,\n",
    "        'PRON': 0,\n",
    "        'CONJ': 0\n",
    "    }\n",
    "\n",
    "    total_current_dict = {\n",
    "        'NOUN': 0,\n",
    "        'DET': 0,\n",
    "        'VERB': 0,\n",
    "        'ADP': 0,\n",
    "        'ADJ': 0,\n",
    "        '.': 0,\n",
    "        'ADV': 0,\n",
    "        'NUM': 0,\n",
    "        'PRON': 0,\n",
    "        'CONJ': 0  \n",
    "    }\n",
    "    \n",
    "# get pos tag count from the segments from the beginning and current data\n",
    "    total_first_seg_dict, total_current_dict = pos_tag_distribution_per_group(group, condition_seg_hist, vocab)\n",
    "    \n",
    "    \n",
    "#   CURRENt - FIRST. DRAAI ONDERSTAANDE REGELS OM ALS JE WILT ... FIRST - CURRENT\n",
    "# convert the count to percentages >> distribution\n",
    "    result = dict_to_result(total_current_dict, group, result, \"current\")\n",
    "    result = dict_to_result(total_first_seg_dict, group, result, \"first\")\n",
    "\n",
    "dif_hT_nhF = {}\n",
    "dif_hT_nhT = {}\n",
    "dif_hF_nhF = {}\n",
    "dif_hF_nhT = {}\n",
    "\n",
    "\n",
    "# prepare data for bar plots per group NOUN/VERB/ADJ/ADV\n",
    "for key, value in result.items():    \n",
    "    if key.startswith('hT_nhF'):\n",
    "        # als de dict leeg is vul dan\n",
    "        if bool(dif_hT_nhF) == False:\n",
    "            for v in value:\n",
    "                dif_hT_nhF[v[1]] = v[0]\n",
    "              \n",
    "        # als dict al gevuld is .. trek dan de bende er vanaf\n",
    "        else:\n",
    "#           loop door de values\n",
    "            for v in value:\n",
    "                for key, value in dif_hT_nhF.items():\n",
    "#            als value == data dict doe aftrekken\n",
    "                    if v[1] == key:\n",
    "                        dif_hT_nhF[key] = dif_hT_nhF[key] - v[0]\n",
    "\n",
    "    if key.startswith(\"hT_nhT\"):\n",
    "                # als de dict leeg is vul dan\n",
    "        if bool(dif_hT_nhT) == False:\n",
    "            for v in value:\n",
    "                dif_hT_nhT[v[1]] = v[0]\n",
    "              \n",
    "        # als dict al gevuld is .. trek dan de bende er vanaf\n",
    "        else:\n",
    "#           loop door de values\n",
    "            for v in value:\n",
    "                for key, value in dif_hT_nhT.items():\n",
    "#            als value == data dict doe aftrekken\n",
    "                    if v[1] == key:\n",
    "                        dif_hT_nhT[key] = dif_hT_nhT[key] - v[0]\n",
    " \n",
    "        \n",
    "    if key.startswith(\"hF_nhF\"):\n",
    "        if bool(dif_hF_nhF) == False:\n",
    "            for v in value:\n",
    "                dif_hF_nhF[v[1]] = v[0]\n",
    "              \n",
    "        # als dict al gevuld is .. trek dan de bende er vanaf\n",
    "        else:\n",
    "#           loop door de values\n",
    "            for v in value:\n",
    "                for key, value in dif_hF_nhF.items():\n",
    "#            als value == data dict doe aftrekken\n",
    "                    if v[1] == key:\n",
    "                        dif_hF_nhF[key] = dif_hF_nhF[key] - v[0]           \n",
    "            \n",
    "    if key.startswith(\"hF_nhT\"):\n",
    "        if bool(dif_hF_nhT) == False:\n",
    "            for v in value:\n",
    "                dif_hF_nhT[v[1]] = v[0]\n",
    "              \n",
    "        # als dict al gevuld is .. trek dan de bende er vanaf\n",
    "        else:\n",
    "#           loop door de values\n",
    "            for v in value:\n",
    "                for key, value in dif_hF_nhT.items():\n",
    "#            als value == data dict doe aftrekken\n",
    "                    if v[1] == key:\n",
    "                        dif_hF_nhT[key] = dif_hF_nhT[key] - v[0]\n"
   ]
  },
  {
   "cell_type": "code",
   "execution_count": 25,
   "metadata": {},
   "outputs": [
    {
     "data": {
      "image/png": "[encoded data removed]",
      "text/plain": [
       "<Figure size 432x288 with 1 Axes>"
      ]
     },
     "metadata": {
      "needs_background": "light"
     },
     "output_type": "display_data"
    },
    {
     "data": {
      "image/png": "[encoded data removed]",
      "text/plain": [
       "<Figure size 432x288 with 1 Axes>"
      ]
     },
     "metadata": {
      "needs_background": "light"
     },
     "output_type": "display_data"
    },
    {
     "data": {
      "image/png": "[encoded data removed]",
      "text/plain": [
       "<Figure size 432x288 with 1 Axes>"
      ]
     },
     "metadata": {
      "needs_background": "light"
     },
     "output_type": "display_data"
    },
    {
     "data": {
      "image/png": "[encoded data removed]",
      "text/plain": [
       "<Figure size 432x288 with 1 Axes>"
      ]
     },
     "metadata": {
      "needs_background": "light"
     },
     "output_type": "display_data"
    }
   ],
   "source": [
    "# plot barcharts\n",
    "\n",
    "dicts = [dif_hT_nhF, dif_hT_nhT, dif_hF_nhF, dif_hF_nhT]\n",
    "noun_dif = []\n",
    "verb_dif = [] \n",
    "adj_dif = []\n",
    "adv_dif = []\n",
    "\n",
    "plots = [noun_dif, verb_dif, adj_dif, adv_dif]\n",
    "labels = ['Difference in noun ratio between \\n each segment and the first segment in their chain', 'Difference in verb ratio between \\n each segment and the first segment in their chain', 'Difference in adjective ratio between \\n each segment and the first segment in their chain', 'Difference in adverb ratio between \\n each segment and the first segment in their chain']\n",
    "\n",
    "for d in dicts:\n",
    "    for key, value in d.items():\n",
    "        if key == \"NOUN\":\n",
    "            noun_dif.append(value)\n",
    "        if key == \"VERB\":\n",
    "            verb_dif.append(value)\n",
    "        if key == \"ADJ\":\n",
    "            adj_dif.append(value)\n",
    "        if key == \"ADV\":\n",
    "            adv_dif.append(value)\n",
    "        \n",
    "import numpy as np\n",
    "import matplotlib.pyplot as plt\n",
    "import matplotlib.ticker as mtick\n",
    "\n",
    "for plot in range(len(plots)):\n",
    "\n",
    "    bars = ('hT nhF', 'hT nhT', 'hF nhF', 'hF nhT')\n",
    "    y_pos = np.arange(len(bars))\n",
    "\n",
    "    # Create bars\n",
    "    plt.bar(y_pos, plots[plot])\n",
    "    \n",
    "#     plt.yaxis.set_major_formatter(mtick.PercentFormatter())\n",
    "    threshold = 0\n",
    "    plt.axhline(y=threshold,linewidth=1, color='k')\n",
    "    \n",
    "    # Create names on the x-axis\n",
    "    axes = plt.gca()\n",
    "    axes.set_ylim([-0.03,0.05])\n",
    "    \n",
    "    plt.xticks(y_pos, bars)\n",
    "    plt.title(labels[plot])\n",
    "\n",
    "    # Show graphic\n",
    "    plt.show()\n",
    "\n",
    "\n",
    "    # noun_dif"
   ]
  },
  {
   "cell_type": "code",
   "execution_count": 113,
   "metadata": {},
   "outputs": [],
   "source": [
    "# plot the pie charts per group \n",
    "\n",
    "def plot_dict(plot_title, values):\n",
    "    labels = []\n",
    "    all_values = []\n",
    "    \n",
    "    for v in range(len(values)):\n",
    "        # print(\"v\", values[v])\n",
    "\n",
    "        labels.append(values[v][1])\n",
    "        all_values.append(values[v][0])\n",
    "\n",
    "    fig1, ax1 = plt.subplots()\n",
    "    ax1.pie(all_values, labels=labels, autopct='%1.1f%%',\n",
    "            shadow=True, startangle=90)\n",
    "    ax1.axis('equal')  # Equal aspect ratio ensures that pie is drawn as a circle\n",
    "    fig1.suptitle(plot_title, fontsize=20)\n",
    "    plt.show()"
   ]
  },
  {
   "cell_type": "markdown",
   "metadata": {},
   "source": [
    "## Experiments with leaving out tags in segments:"
   ]
  },
  {
   "cell_type": "code",
   "execution_count": 114,
   "metadata": {
    "scrolled": true
   },
   "outputs": [],
   "source": [
    "def create_history_dict(chain_data):\n",
    "    history_dict = {}\n",
    "\n",
    "    # Loop through all segments\n",
    "    for segment in tqdm(range(0, 6801)):\n",
    "        \n",
    "        # For each segment, find its place in the chain_data and add this to history dict\n",
    "        for index, chain_data_row in enumerate(chain_data):\n",
    "            chain_segments = chain_data_row['segments']\n",
    "            \n",
    "            if segment in chain_segments:\n",
    "\n",
    "                # If segment already exits, add new index\n",
    "                if segment in history_dict:\n",
    "                    current_list = history_dict[segment]\n",
    "                    current_list.append(index)\n",
    "                    history_dict[segment] = current_list\n",
    "                # If segment does not yet exist in dict, add it \n",
    "                else:\n",
    "                    history_dict[segment] = [index]\n",
    "                    \n",
    "    return history_dict\n",
    "\n",
    "\n",
    "    # geef de segment_id en het returnt de index waar het in staat\n",
    "\n",
    "    # segment_id: [ index]\n",
    "    # {0: [0],\n",
    "    #  7: [0],\n",
    "    #  8: [0, 4],"
   ]
  },
  {
   "cell_type": "code",
   "execution_count": 115,
   "metadata": {
    "scrolled": true
   },
   "outputs": [],
   "source": [
    "def update_history_dataset(segment_dataset, history_dict, chain_data):\n",
    "    \n",
    "    for segment_id, segment_data in enumerate(segment_dataset):\n",
    "        segment_length = segment_data['length']\n",
    "        \n",
    "        # Find at which index in history file a certain segment is\n",
    "        index = history_dict[segment_id]\n",
    "    \n",
    "        # Retrieve all indices in history file and change length\n",
    "        for i in index:\n",
    "            all_segments_for_that_index = chain_data[i]['segments']\n",
    "            for ii, seg in enumerate(all_segments_for_that_index):\n",
    "\n",
    "                if segment_id == seg:\n",
    "                    chain_data[i]['lengths'][ii] = segment_length\n",
    "                    \n",
    "    return chain_data\n"
   ]
  },
  {
   "cell_type": "code",
   "execution_count": 116,
   "metadata": {},
   "outputs": [],
   "source": [
    "def import_dialogue_data():\n",
    "    \n",
    "    from ChainDataset import ChainDataset\n",
    "\n",
    "    chain_test_set = ChainDataset(\n",
    "        data_dir='data/',\n",
    "        segment_file='segments.json',\n",
    "        chain_file='test_chains.json',\n",
    "        vectors_file='vectors.json',\n",
    "        split='test'\n",
    "    )\n",
    "\n",
    "    from SegmentDataset import SegmentDataset\n",
    "\n",
    "    segment_test_set = SegmentDataset(\n",
    "        data_dir='data/',\n",
    "        segment_file='segments.json',\n",
    "        vectors_file='vectors.json',\n",
    "        split='test'\n",
    "    )\n",
    "    \n",
    "    \n",
    "    segment_test_set = copy.deepcopy(segment_test_set)   \n",
    "    chain_data = copy.deepcopy(chain_test_set.chains)\n",
    "    \n",
    "    return segment_test_set, chain_data"
   ]
  },
  {
   "cell_type": "code",
   "execution_count": 1,
   "metadata": {},
   "outputs": [
    {
     "ename": "SyntaxError",
     "evalue": "non-default argument follows default argument (<ipython-input-1-528ff84a449c>, line 1)",
     "output_type": "error",
     "traceback": [
      "\u001b[1;36m  File \u001b[1;32m\"<ipython-input-1-528ff84a449c>\"\u001b[1;36m, line \u001b[1;32m1\u001b[0m\n\u001b[1;33m    def remove_tag(tag, segment_test_set, remove_perc=1.0, vocab, oov_dict):\u001b[0m\n\u001b[1;37m                  ^\u001b[0m\n\u001b[1;31mSyntaxError\u001b[0m\u001b[1;31m:\u001b[0m non-default argument follows default argument\n"
     ]
    }
   ],
   "source": [
    "def remove_tag(tag, segment_test_set, remove_perc=1.0, vocab, oov_dict):\n",
    "    for segment_id, segment_data in enumerate(segment_test_set):\n",
    "        \n",
    "        pos_tags = []\n",
    "        lower_case_sentence = []\n",
    "        correct_sentence = []\n",
    "\n",
    "        encoded_segment = vocab.decode(segment_data['segment'])\n",
    "\n",
    "        for word in encoded_segment:\n",
    "            if word == '-A-':\n",
    "                lower_case_sentence.append(word)\n",
    "                continue\n",
    "            if word == '-B-':\n",
    "                lower_case_sentence.append(word)\n",
    "                continue\n",
    "            lower_case_sentence.append(word.lower())\n",
    "\n",
    "        for word in lower_case_sentence:\n",
    "\n",
    "            if word not in oov_dict:\n",
    "                correct_sentence.append(word)\n",
    "            else:\n",
    "                correct_sentence.append(oov_dict[word])\n",
    "\n",
    "        try: \n",
    "            pos_tags += [word[1] for word in pos_tag(correct_sentence, tagset='universal')]\n",
    "\n",
    "            # List with indices to remove\n",
    "            remove_index = []\n",
    "            for index, word in enumerate(pos_tags):\n",
    "                if word == tag:\n",
    "                    remove_index.append(index)\n",
    "               \n",
    " #          loop door de candidaten die je wilt verwijderen. met een bepaalde kans worden ze ook echt verwijdert.\n",
    "            new_remove = []\n",
    "            for ind in remove_index:\n",
    "                p = np.random.rand()\n",
    "                if p < remove_perc:\n",
    "                    new_remove.append(ind)\n",
    "            remove_index = new_remove\n",
    "\n",
    "            # Only keep certain percentage of indices to remove \n",
    "#             remove_index = np.random.choice(remove_index, int(remove_perc*len(remove_index)))\n",
    "          \n",
    "            for index in reversed(remove_index):\n",
    "                del correct_sentence[index]\n",
    "\n",
    "            encoded_sentence = vocab.encode(correct_sentence)\n",
    "\n",
    "            segment_test_set[segment_id]['segment'] = encoded_sentence\n",
    "            segment_test_set[segment_id]['length'] = len(encoded_sentence)\n",
    "\n",
    "        except IndexError:\n",
    "            continue \n",
    "\n",
    "    \n",
    "    return segment_test_set\n",
    "\n"
   ]
  },
  {
   "cell_type": "code",
   "execution_count": 118,
   "metadata": {
    "scrolled": true
   },
   "outputs": [
    {
     "name": "stderr",
     "output_type": "stream",
     "text": [
      "100%|█████████████████████████████████████████████████████████████████████████████████████████████████████████████████████████████████████████████████████████████████████████| 6801/6801 [00:01<00:00, 3680.64it/s]\n"
     ]
    }
   ],
   "source": [
    "history_dict = create_history_dict(chain_test_set.chains)\n",
    "from Vocab import Vocab\n",
    "vocab = Vocab('data/vocab.csv', 3)\n",
    "with open('oov_dictionary.pickle', 'rb') as f:\n",
    "    oov_dict = pickle.load(f)\n",
    "    \n",
    "    \n",
    "\n",
    "\n",
    "# Remove tags from nouns\n",
    "segment_test_set_cp, chain_test_set_cp = import_dialogue_data()\n",
    "segment_test_set_noun = remove_tag(\"NOUN\", segment_test_set_cp, 0.5, vocab, oov_dict)\n",
    "chain_data_noun = update_history_dataset(segment_test_set_noun, history_dict, chain_test_set_cp)\n",
    "\n",
    "# Remove tags from verbs\n",
    "segment_test_set, chain_data = import_dialogue_data()\n",
    "segment_test_set_verb = remove_tag(\"VERB\", segment_test_set, 0.5)\n",
    "chain_data_verb = update_history_dataset(segment_test_set_verb, history_dict, chain_data)\n",
    "\n",
    "# Remove tags from adjectives\n",
    "segment_test_set, chain_data = import_dialogue_data()\n",
    "segment_test_set_adj = remove_tag(\"ADJ\", segment_test_set, 0.5)\n",
    "chain_data_adj = update_history_dataset(segment_test_set_adj, history_dict, chain_data)\n",
    "\n",
    "# Remove tags from adverbs\n",
    "segment_test_set, chain_data = import_dialogue_data()\n",
    "segment_test_set_adv = remove_tag(\"ADV\", segment_test_set, 0.5)\n",
    "chain_data_adv = update_history_dataset(segment_test_set_adv, history_dict, chain_data)"
   ]
  },
  {
   "cell_type": "code",
   "execution_count": 126,
   "metadata": {},
   "outputs": [],
   "source": [
    "# write chain information to file\n",
    "with open('data/test_noun_chains.json', 'w') as json_file:\n",
    "    json.dump(chain_data_noun, json_file)   \n",
    "\n",
    "with open('data/test_verb_chains.json', 'w') as json_file:\n",
    "    json.dump(chain_data_verb, json_file)\n",
    "    \n",
    "with open('data/test_adj_chains.json', 'w') as json_file:\n",
    "    json.dump(chain_data_adj, json_file)\n",
    "\n",
    "with open('data/test_adv_chains.json', 'w') as json_file:\n",
    "    json.dump(chain_data_adv, json_file)"
   ]
  },
  {
   "cell_type": "code",
   "execution_count": 127,
   "metadata": {},
   "outputs": [],
   "source": [
    "# write segments to json file\n",
    "segment_data_noun_test = [seg for seg in segment_test_set_noun]\n",
    "segment_data_verb_test = [seg for seg in segment_test_set_verb]\n",
    "segment_data_adj_test = [seg for seg in segment_test_set_adj]\n",
    "segment_data_adv_test = [seg for seg in segment_test_set_adv]\n",
    "\n",
    "with open('data/test_noun_segments.json', 'w') as json_file:\n",
    "    json.dump(segment_data_noun_test, json_file)\n",
    "       \n",
    "with open('data/test_verb_segments.json', 'w') as json_file:\n",
    "    json.dump(segment_data_verb_test, json_file)\n",
    "        \n",
    "with open('data/test_adj_segments.json', 'w') as json_file:\n",
    "    json.dump(segment_data_adj_test, json_file)\n",
    "      \n",
    "with open('data/test_adv_segments.json', 'w') as json_file:\n",
    "    json.dump(segment_data_adv_test, json_file)\n"
   ]
  }
 ],
 "metadata": {
  "kernelspec": {
   "display_name": "Python 3",
   "language": "python",
   "name": "python3"
  },
  "language_info": {
   "codemirror_mode": {
    "name": "ipython",
    "version": 3
   },
   "file_extension": ".py",
   "mimetype": "text/x-python",
   "name": "python",
   "nbconvert_exporter": "python",
   "pygments_lexer": "ipython3",
   "version": "3.7.4"
  }
 },
 "nbformat": 4,
 "nbformat_minor": 2
}
