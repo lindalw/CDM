{
 "cells": [
  {
   "cell_type": "code",
   "execution_count": 155,
   "metadata": {},
   "outputs": [
    {
     "name": "stderr",
     "output_type": "stream",
     "text": [
      "[nltk_data] Downloading package stopwords to\n",
      "[nltk_data]     /Users/emmahokken/nltk_data...\n",
      "[nltk_data]   Package stopwords is already up-to-date!\n"
     ]
    },
    {
     "name": "stdout",
     "output_type": "stream",
     "text": [
      "Initialising vocab from file.\n"
     ]
    }
   ],
   "source": [
    "import gensim.downloader as api\n",
    "from nltk.corpus import stopwords\n",
    "import nltk\n",
    "nltk.download('stopwords')\n",
    "from sklearn.decomposition import PCA\n",
    "\n",
    "import numpy as np\n",
    "import pickle\n",
    "import json\n",
    "import copy\n",
    "import pandas as pd\n",
    "from tqdm import tqdm\n",
    "import scipy.stats as stats\n",
    "from sklearn.metrics.pairwise import cosine_similarity\n",
    "from collections import defaultdict \n",
    "\n",
    "from Vocab import Vocab\n",
    "vocab = Vocab('data/vocab.csv', 3)\n",
    "from get_predictions import get_predictions\n",
    "from helpers import *\n",
    "\n",
    "from ChainDataset import ChainDataset\n",
    "\n",
    "chain_test_set = ChainDataset(\n",
    "    data_dir='data/',\n",
    "    segment_file='segments.json',\n",
    "    chain_file='test_chains.json',\n",
    "    vectors_file='vectors.json',\n",
    "    split='test'\n",
    ")\n",
    "\n"
   ]
  },
  {
   "cell_type": "code",
   "execution_count": 156,
   "metadata": {},
   "outputs": [],
   "source": [
    "wv_google_300d = api.load('word2vec-google-news-300')\n",
    "wv_twitter_50d = api.load('glove-twitter-50')\n"
   ]
  },
  {
   "cell_type": "markdown",
   "metadata": {},
   "source": [
    "## Cosine similarity"
   ]
  },
  {
   "cell_type": "code",
   "execution_count": 5,
   "metadata": {},
   "outputs": [
    {
     "name": "stdout",
     "output_type": "stream",
     "text": [
      "loaded model: No history\n",
      "Initialising vocab from file.\n",
      "vocab len 3424\n",
      "Initialising vocab from file.\n",
      "Loaded seg2ranks and idlist\n",
      "params. normalize=True, mask=True, weight=5.5, weighting=True, batchsize=1, breaking=False\n",
      "Dataparams. data_dir=./data, segmentfile=segments.json, vectorfile=vectors.json, chains_file=chains.json\n",
      "segment dataset with segments.json vectors.json test\n",
      "history dataset with test_segments.json vectors.json test_chains.json test\n",
      "processing test\n",
      "\n",
      "Start prediction\n",
      "predict no history\n",
      "{'segment': [5, 212, 4, 166, 5, 12, 22, 782, 29, 234, 213, 10, 4, 416, 14, 12, 22, 7, 6, 49, 11, 6, 155, 295, 11, 6, 811, 16, 9, 95, 10, 5, 17, 8, 12], 'image_set': ['93469', '380128', '14238', '259745', '524866', '341060', '483794', '96757'], 'targets': [5], 'length': 35, 'preds': tensor([[[0.],\n",
      "         [0.],\n",
      "         [0.],\n",
      "         [0.],\n",
      "         [0.],\n",
      "         [0.],\n",
      "         [0.],\n",
      "         [0.]]]), 'loss': tensor(4.9204), 'ranks': [0]}\n",
      "getting predicitons took 41.8447539806366 seconds\n",
      "loaded model: History\n",
      "Initialising vocab from file.\n",
      "vocab len 3424\n",
      "Initialising vocab from file.\n",
      "Loaded seg2ranks and idlist\n",
      "params. normalize=True, mask=True, weight=5.5, weighting=True, batchsize=1, breaking=False\n",
      "Dataparams. data_dir=./data, segmentfile=segments.json, vectorfile=vectors.json, chains_file=chains.json\n",
      "segment dataset with segments.json vectors.json test\n",
      "history dataset with test_segments.json vectors.json test_chains.json test\n",
      "processing test\n",
      "\n",
      "Start prediction\n",
      "predicting datapoint 0 out of 6801\n",
      "predicting datapoint 500 out of 6801\n",
      "predicting datapoint 1000 out of 6801\n",
      "predicting datapoint 1500 out of 6801\n",
      "predicting datapoint 2000 out of 6801\n",
      "predicting datapoint 2500 out of 6801\n",
      "predicting datapoint 3000 out of 6801\n",
      "predicting datapoint 3500 out of 6801\n",
      "predicting datapoint 4000 out of 6801\n",
      "predicting datapoint 4500 out of 6801\n",
      "predicting datapoint 5000 out of 6801\n",
      "predicting datapoint 5500 out of 6801\n",
      "predicting datapoint 6000 out of 6801\n",
      "predicting datapoint 6500 out of 6801\n",
      "getting predicitons took 254.04815578460693 seconds\n"
     ]
    },
    {
     "name": "stderr",
     "output_type": "stream",
     "text": [
      "100%|██████████| 6801/6801 [00:00<00:00, 42899.37it/s]\n",
      "  0%|          | 0/6801 [00:00<?, ?it/s]"
     ]
    },
    {
     "name": "stdout",
     "output_type": "stream",
     "text": [
      "[4, 12, 22, 7, 21, 11, 294, 16, 9, 945, 10, 5, 13, 8, 12, 31] [4, 12, 22, 7, 21, 11, 294, 16, 9, 945, 10, 5, 13, 8, 12, 31]\n",
      "No history\n",
      "History\n"
     ]
    },
    {
     "name": "stderr",
     "output_type": "stream",
     "text": [
      "100%|██████████| 6801/6801 [00:00<00:00, 45468.83it/s]\n"
     ]
    }
   ],
   "source": [
    "dataset_pred_no_hist, dataset_pred_hist_cp, conditions_inds, condition_seg_hist, dataframe = get_pred_datasets_orig()"
   ]
  },
  {
   "cell_type": "code",
   "execution_count": 6,
   "metadata": {},
   "outputs": [],
   "source": [
    "stopword_list = stopwords.words('english')\n",
    "\n",
    "stopword_list.append(\"-B-\")\n",
    "stopword_list.append(\"-A-\")\n",
    "stopword_list.append(\"<unk>\")\n",
    "\n",
    "stemmer = nltk.stem.porter.PorterStemmer()\n"
   ]
  },
  {
   "cell_type": "code",
   "execution_count": 157,
   "metadata": {},
   "outputs": [],
   "source": [
    "def embed(seg):\n",
    "    embedding = np.zeros((300,))\n",
    "    length = 0\n",
    "    for word in seg:\n",
    "\n",
    "        # only use word if it is not a stopword \n",
    "        if word in stopword_list:\n",
    "            continue\n",
    "            \n",
    "        # try to embed word and add it to sentence vector \n",
    "        try:\n",
    "            em = wv_google_300d[word]\n",
    "            embedding += em\n",
    "            length += 1\n",
    "        except KeyError:\n",
    "            continue\n",
    "    \n",
    "    return embedding / length \n",
    "\n",
    "def get_cosim(condition, condition_seg_hist):\n",
    "    cosine_sim = []\n",
    "    csh_keys = list(condition_seg_hist[condition])\n",
    "    count = 0 \n",
    "\n",
    "    for k in csh_keys:\n",
    "        \n",
    "        # ensure current chain is not empty (TODO: fix this maybe? so this doesn't happen)\n",
    "        if condition_seg_hist[condition][k] == {}:\n",
    "            continue\n",
    "            \n",
    "        # decode first and current sentence \n",
    "        first_seg = list(condition_seg_hist[condition][k].values())[0]['first_seg']\n",
    "        current_seg = list(condition_seg_hist[condition][k].values())[0]['current_seg']\n",
    "        dec_first_seg = vocab.decode(first_seg)\n",
    "        dec_current_seg = vocab.decode(current_seg)\n",
    "        \n",
    "        # embed words  \n",
    "        embed_first = embed(dec_first_seg).reshape(1, -1)\n",
    "        embed_current = embed(dec_current_seg).reshape(1, -1)\n",
    "        \n",
    "        # calculate cosine similarity \n",
    "        try: \n",
    "            cosim = cosine_similarity(embed_first, embed_current)\n",
    "            cosine_sim.append(cosim)\n",
    "        except ValueError:\n",
    "            count += 1\n",
    "            \n",
    "    print(count)\n",
    "    \n",
    "    # calculate mean and std \n",
    "    cosine_sim = np.array(cosine_sim)\n",
    "    cosine_sim_mean = cosine_sim.mean()\n",
    "    cosine_sim_std = cosine_sim.std()\n",
    "    \n",
    "    return cosine_sim, cosine_sim_mean, cosine_sim_std\n",
    "\n",
    "def sort_into_ranks(condition, condition_seg_hist):\n",
    "    ranks = defaultdict(list)\n",
    "    \n",
    "    csh_keys = list(condition_seg_hist[condition])\n",
    "\n",
    "    for k in csh_keys:\n",
    "        \n",
    "        # ensure current chain is not empty (TODO: fix this maybe? so this doesn't happen)\n",
    "        if condition_seg_hist[condition][k] == {}:\n",
    "            continue\n",
    "            \n",
    "        rank = list(condition_seg_hist[condition][k].values())[0]['round']\n",
    "        ranks[str(rank)].append(list(condition_seg_hist[condition][k].values())[0])\n",
    "    return ranks\n",
    "\n",
    "def cosine_ranks(rank_dict):\n",
    "    count = 0\n",
    "    cosine_sim = []\n",
    "    for rank in rank_dict:\n",
    "\n",
    "        # ensure current chain is not empty (TODO: fix this maybe? so this doesn't happen)\n",
    "        if rank == {}:\n",
    "            continue\n",
    "            \n",
    "        # decode first and current sentence \n",
    "        first_seg = rank['first_seg']\n",
    "        current_seg = rank['current_seg']\n",
    "        dec_first_seg = vocab.decode(first_seg)\n",
    "        dec_current_seg = vocab.decode(current_seg)\n",
    "        \n",
    "        # embed words  \n",
    "        embed_first = embed(dec_first_seg).reshape(1, -1)\n",
    "        embed_current = embed(dec_current_seg).reshape(1, -1)\n",
    "        \n",
    "        # calculate cosine similarity \n",
    "        try: \n",
    "            cosim = cosine_similarity(embed_first, embed_current)\n",
    "            cosine_sim.append(cosim)\n",
    "        except ValueError:\n",
    "            count += 1\n",
    "                \n",
    "    # calculate mean and std \n",
    "    cosine_sim = np.array(cosine_sim).squeeze()\n",
    "    cosine_sim_mean = cosine_sim.mean()\n",
    "    cosine_sim_std = cosine_sim.std()\n",
    "    \n",
    "    return cosine_sim, cosine_sim_mean, cosine_sim_std"
   ]
  },
  {
   "cell_type": "code",
   "execution_count": 158,
   "metadata": {},
   "outputs": [
    {
     "name": "stderr",
     "output_type": "stream",
     "text": [
      "/anaconda3/lib/python3.7/site-packages/ipykernel_launcher.py:18: RuntimeWarning: invalid value encountered in true_divide\n",
      "/anaconda3/lib/python3.7/site-packages/ipykernel_launcher.py:18: RuntimeWarning: invalid value encountered in true_divide\n",
      "/anaconda3/lib/python3.7/site-packages/ipykernel_launcher.py:18: RuntimeWarning: invalid value encountered in true_divide\n",
      "/anaconda3/lib/python3.7/site-packages/ipykernel_launcher.py:18: RuntimeWarning: invalid value encountered in true_divide\n",
      "/anaconda3/lib/python3.7/site-packages/ipykernel_launcher.py:18: RuntimeWarning: invalid value encountered in true_divide\n",
      "/anaconda3/lib/python3.7/site-packages/ipykernel_launcher.py:18: RuntimeWarning: invalid value encountered in true_divide\n"
     ]
    },
    {
     "name": "stdout",
     "output_type": "stream",
     "text": [
      "3\n"
     ]
    },
    {
     "name": "stderr",
     "output_type": "stream",
     "text": [
      "/anaconda3/lib/python3.7/site-packages/ipykernel_launcher.py:18: RuntimeWarning: invalid value encountered in true_divide\n",
      "/anaconda3/lib/python3.7/site-packages/ipykernel_launcher.py:18: RuntimeWarning: invalid value encountered in true_divide\n",
      "/anaconda3/lib/python3.7/site-packages/ipykernel_launcher.py:18: RuntimeWarning: invalid value encountered in true_divide\n",
      "/anaconda3/lib/python3.7/site-packages/ipykernel_launcher.py:18: RuntimeWarning: invalid value encountered in true_divide\n"
     ]
    },
    {
     "name": "stdout",
     "output_type": "stream",
     "text": [
      "7\n",
      "0\n",
      "0\n"
     ]
    }
   ],
   "source": [
    "cosim_hT_nhF, cosim_hT_nhF_mean, cosim_hT_nhF_std = get_cosim('hT_nhF', condition_seg_hist)\n",
    "cosim_hT_nhT, cosim_hT_nhT_mean, cosim_hT_nhT_std = get_cosim('hT_nhT', condition_seg_hist)\n",
    "cosim_hF_nhF, cosim_hF_nhF_mean, cosim_hF_nhF_std = get_cosim('hF_nhF', condition_seg_hist)\n",
    "cosim_hF_nhT, cosim_hF_nhT_mean, cosim_hF_nhT_std = get_cosim('hF_nhT', condition_seg_hist)"
   ]
  },
  {
   "cell_type": "code",
   "execution_count": 159,
   "metadata": {},
   "outputs": [
    {
     "name": "stdout",
     "output_type": "stream",
     "text": [
      "Test if equal variance\n",
      "LeveneResult(statistic=7.396300268467312, pvalue=6.442093796887582e-05)\n",
      "\n",
      "Test if normally distributed\n",
      "cosim_hT_nhF: NormaltestResult(statistic=15.639719370397831, pvalue=0.00040167804022368965)\n",
      "cosim_hT_nhT: NormaltestResult(statistic=181.5790640456814, pvalue=3.7205507072854045e-40)\n",
      "cosim_hF_nhF: NormaltestResult(statistic=24.96104875725523, pvalue=3.799943428317518e-06)\n",
      "cosim_hF_nhT: NormaltestResult(statistic=33.99154238638241, pvalue=4.1574817846862625e-08)\n",
      "\n",
      "Test if samples differ significantly using ANOVA\n",
      "F_onewayResult(statistic=15.070543498766023, pvalue=1.1664044423475807e-09)\n",
      "\n",
      "If any of the above tests were significant, perform Kruskal test\n",
      "KruskalResult(statistic=30.55123533852024, pvalue=1.056606151723308e-06)\n"
     ]
    }
   ],
   "source": [
    "# Statistical analysis\n",
    "\n",
    "# Reshape samples\n",
    "cosim_hT_nhF, cosim_hT_nhT, cosim_hF_nhF, cosim_hF_nhT = cosim_hT_nhF.squeeze(), cosim_hT_nhT.squeeze(), cosim_hF_nhF.squeeze(), cosim_hF_nhT.squeeze()\n",
    "\n",
    "print('Test if equal variance')\n",
    "print(stats.levene(cosim_hT_nhF, cosim_hT_nhT, cosim_hF_nhF, cosim_hF_nhT))\n",
    "print()\n",
    "\n",
    "print('Test if normally distributed')\n",
    "print('cosim_hT_nhF:', stats.normaltest(cosim_hT_nhF))\n",
    "print('cosim_hT_nhT:', stats.normaltest(cosim_hT_nhT))\n",
    "print('cosim_hF_nhF:', stats.normaltest(cosim_hF_nhF))\n",
    "print('cosim_hF_nhT:', stats.normaltest(cosim_hF_nhT))\n",
    "print()\n",
    "\n",
    "print('Test if samples differ significantly using ANOVA')\n",
    "print(stats.f_oneway(cosim_hT_nhF, cosim_hT_nhT, cosim_hF_nhF, cosim_hF_nhT))\n",
    "print()\n",
    "\n",
    "print('If any of the above tests were significant, perform Kruskal test')\n",
    "print(stats.kruskal(cosim_hT_nhF, cosim_hT_nhT, cosim_hF_nhF, cosim_hF_nhT))\n",
    "\n"
   ]
  },
  {
   "cell_type": "code",
   "execution_count": 149,
   "metadata": {},
   "outputs": [
    {
     "name": "stdout",
     "output_type": "stream",
     "text": [
      "Ttest_indResult(statistic=-3.1229277801384825, pvalue=0.0018328941248359942)\n",
      "Ttest_indResult(statistic=-1.4651372940432967, pvalue=0.14512562898697645)\n",
      "Ttest_indResult(statistic=1.1685342999712363, pvalue=0.24378550374480962)\n",
      "\n",
      "Ttest_indResult(statistic=-6.329648827582439, pvalue=3.384408573625465e-10)\n",
      "Ttest_indResult(statistic=-2.484939783102449, pvalue=0.01372733953540725)\n",
      "Ttest_indResult(statistic=-1.1685342999712363, pvalue=0.24378550374480962)\n",
      "\n",
      "Ttest_indResult(statistic=3.1229277801384825, pvalue=0.0018328941248359942)\n",
      "Ttest_indResult(statistic=0.5879802759925874, pvalue=0.5566565345647296)\n",
      "Ttest_indResult(statistic=6.329648827582439, pvalue=3.384408573625465e-10)\n",
      "\n",
      "Ttest_indResult(statistic=-0.5879802759925874, pvalue=0.5566565345647296)\n",
      "Ttest_indResult(statistic=1.4651372940432967, pvalue=0.14512562898697645)\n",
      "Ttest_indResult(statistic=2.484939783102449, pvalue=0.01372733953540725)\n",
      "\n"
     ]
    }
   ],
   "source": [
    "print(stats.ttest_ind(cosim_hT_nhF, cosim_hT_nhT))\n",
    "print(stats.ttest_ind(cosim_hT_nhF, cosim_hF_nhT))\n",
    "print(stats.ttest_ind(cosim_hT_nhF, cosim_hF_nhF))\n",
    "print()\n",
    "\n",
    "print(stats.ttest_ind(cosim_hF_nhF, cosim_hT_nhT))\n",
    "print(stats.ttest_ind(cosim_hF_nhF, cosim_hF_nhT))\n",
    "print(stats.ttest_ind(cosim_hF_nhF, cosim_hT_nhF))\n",
    "print()\n",
    "\n",
    "print(stats.ttest_ind(cosim_hT_nhT, cosim_hT_nhF))\n",
    "print(stats.ttest_ind(cosim_hT_nhT, cosim_hF_nhT))\n",
    "print(stats.ttest_ind(cosim_hT_nhT, cosim_hF_nhF))\n",
    "print()\n",
    "\n",
    "print(stats.ttest_ind(cosim_hF_nhT, cosim_hT_nhT))\n",
    "print(stats.ttest_ind(cosim_hF_nhT, cosim_hT_nhF))\n",
    "print(stats.ttest_ind(cosim_hF_nhT, cosim_hF_nhF))\n",
    "print()\n"
   ]
  },
  {
   "cell_type": "code",
   "execution_count": 160,
   "metadata": {},
   "outputs": [
    {
     "name": "stderr",
     "output_type": "stream",
     "text": [
      "/anaconda3/lib/python3.7/site-packages/ipykernel_launcher.py:18: RuntimeWarning: invalid value encountered in true_divide\n",
      "/anaconda3/lib/python3.7/site-packages/ipykernel_launcher.py:100: RuntimeWarning: Mean of empty slice.\n",
      "/anaconda3/lib/python3.7/site-packages/numpy/core/_methods.py:85: RuntimeWarning: invalid value encountered in double_scalars\n",
      "  ret = ret.dtype.type(ret / rcount)\n",
      "/anaconda3/lib/python3.7/site-packages/numpy/core/_methods.py:140: RuntimeWarning: Degrees of freedom <= 0 for slice\n",
      "  keepdims=keepdims)\n",
      "/anaconda3/lib/python3.7/site-packages/numpy/core/_methods.py:110: RuntimeWarning: invalid value encountered in true_divide\n",
      "  arrmean, rcount, out=arrmean, casting='unsafe', subok=False)\n",
      "/anaconda3/lib/python3.7/site-packages/numpy/core/_methods.py:132: RuntimeWarning: invalid value encountered in double_scalars\n",
      "  ret = ret.dtype.type(ret / rcount)\n",
      "/anaconda3/lib/python3.7/site-packages/ipykernel_launcher.py:18: RuntimeWarning: invalid value encountered in true_divide\n",
      "/anaconda3/lib/python3.7/site-packages/ipykernel_launcher.py:18: RuntimeWarning: invalid value encountered in true_divide\n",
      "/anaconda3/lib/python3.7/site-packages/ipykernel_launcher.py:18: RuntimeWarning: invalid value encountered in true_divide\n",
      "/anaconda3/lib/python3.7/site-packages/ipykernel_launcher.py:18: RuntimeWarning: invalid value encountered in true_divide\n"
     ]
    },
    {
     "name": "stdout",
     "output_type": "stream",
     "text": [
      "hT_nhT\n"
     ]
    },
    {
     "name": "stderr",
     "output_type": "stream",
     "text": [
      "/anaconda3/lib/python3.7/site-packages/ipykernel_launcher.py:100: RuntimeWarning: Mean of empty slice.\n",
      "/anaconda3/lib/python3.7/site-packages/numpy/core/_methods.py:85: RuntimeWarning: invalid value encountered in double_scalars\n",
      "  ret = ret.dtype.type(ret / rcount)\n",
      "/anaconda3/lib/python3.7/site-packages/numpy/core/_methods.py:140: RuntimeWarning: Degrees of freedom <= 0 for slice\n",
      "  keepdims=keepdims)\n",
      "/anaconda3/lib/python3.7/site-packages/numpy/core/_methods.py:110: RuntimeWarning: invalid value encountered in true_divide\n",
      "  arrmean, rcount, out=arrmean, casting='unsafe', subok=False)\n",
      "/anaconda3/lib/python3.7/site-packages/numpy/core/_methods.py:132: RuntimeWarning: invalid value encountered in double_scalars\n",
      "  ret = ret.dtype.type(ret / rcount)\n",
      "/anaconda3/lib/python3.7/site-packages/ipykernel_launcher.py:100: RuntimeWarning: Mean of empty slice.\n",
      "/anaconda3/lib/python3.7/site-packages/numpy/core/_methods.py:85: RuntimeWarning: invalid value encountered in double_scalars\n",
      "  ret = ret.dtype.type(ret / rcount)\n",
      "/anaconda3/lib/python3.7/site-packages/numpy/core/_methods.py:140: RuntimeWarning: Degrees of freedom <= 0 for slice\n",
      "  keepdims=keepdims)\n",
      "/anaconda3/lib/python3.7/site-packages/numpy/core/_methods.py:110: RuntimeWarning: invalid value encountered in true_divide\n",
      "  arrmean, rcount, out=arrmean, casting='unsafe', subok=False)\n",
      "/anaconda3/lib/python3.7/site-packages/numpy/core/_methods.py:132: RuntimeWarning: invalid value encountered in double_scalars\n",
      "  ret = ret.dtype.type(ret / rcount)\n"
     ]
    },
    {
     "ename": "TypeError",
     "evalue": "unhashable type: 'collections.defaultdict'",
     "output_type": "error",
     "traceback": [
      "\u001b[0;31m---------------------------------------------------------------------------\u001b[0m",
      "\u001b[0;31mTypeError\u001b[0m                                 Traceback (most recent call last)",
      "\u001b[0;32m<ipython-input-160-a853288ff24a>\u001b[0m in \u001b[0;36m<module>\u001b[0;34m\u001b[0m\n\u001b[1;32m     30\u001b[0m \u001b[0;31m# Perform t-test\u001b[0m\u001b[0;34m\u001b[0m\u001b[0;34m\u001b[0m\u001b[0;34m\u001b[0m\u001b[0m\n\u001b[1;32m     31\u001b[0m \u001b[0mprint\u001b[0m\u001b[0;34m(\u001b[0m\u001b[0;34m'hT_nhT'\u001b[0m\u001b[0;34m)\u001b[0m\u001b[0;34m\u001b[0m\u001b[0;34m\u001b[0m\u001b[0m\n\u001b[0;32m---> 32\u001b[0;31m \u001b[0mprint\u001b[0m\u001b[0;34m(\u001b[0m\u001b[0mstats\u001b[0m\u001b[0;34m.\u001b[0m\u001b[0mttest_ind\u001b[0m\u001b[0;34m(\u001b[0m\u001b[0mall_data\u001b[0m\u001b[0;34m[\u001b[0m\u001b[0;34m'hT_nhT'\u001b[0m\u001b[0;34m]\u001b[0m\u001b[0;34m[\u001b[0m\u001b[0;34m'2'\u001b[0m\u001b[0;34m]\u001b[0m\u001b[0;34m[\u001b[0m\u001b[0;36m0\u001b[0m\u001b[0;34m]\u001b[0m\u001b[0;34m,\u001b[0m \u001b[0mall_data\u001b[0m\u001b[0;34m[\u001b[0m\u001b[0mcond\u001b[0m\u001b[0;34m]\u001b[0m\u001b[0;34m[\u001b[0m\u001b[0;34m'4'\u001b[0m\u001b[0;34m]\u001b[0m\u001b[0;34m[\u001b[0m\u001b[0;36m0\u001b[0m\u001b[0;34m]\u001b[0m\u001b[0;34m)\u001b[0m\u001b[0;34m)\u001b[0m\u001b[0;34m\u001b[0m\u001b[0;34m\u001b[0m\u001b[0m\n\u001b[0m\u001b[1;32m     33\u001b[0m \u001b[0mprint\u001b[0m\u001b[0;34m(\u001b[0m\u001b[0;34m'hT_nhF'\u001b[0m\u001b[0;34m)\u001b[0m\u001b[0;34m\u001b[0m\u001b[0;34m\u001b[0m\u001b[0m\n\u001b[1;32m     34\u001b[0m \u001b[0mprint\u001b[0m\u001b[0;34m(\u001b[0m\u001b[0mstats\u001b[0m\u001b[0;34m.\u001b[0m\u001b[0mttest_ind\u001b[0m\u001b[0;34m(\u001b[0m\u001b[0mall_data\u001b[0m\u001b[0;34m[\u001b[0m\u001b[0;34m'hT_nhF'\u001b[0m\u001b[0;34m]\u001b[0m\u001b[0;34m[\u001b[0m\u001b[0;34m'2'\u001b[0m\u001b[0;34m]\u001b[0m\u001b[0;34m[\u001b[0m\u001b[0;36m0\u001b[0m\u001b[0;34m]\u001b[0m\u001b[0;34m,\u001b[0m \u001b[0mall_data\u001b[0m\u001b[0;34m[\u001b[0m\u001b[0mcond\u001b[0m\u001b[0;34m]\u001b[0m\u001b[0;34m[\u001b[0m\u001b[0;34m'5'\u001b[0m\u001b[0;34m]\u001b[0m\u001b[0;34m[\u001b[0m\u001b[0;36m0\u001b[0m\u001b[0;34m]\u001b[0m\u001b[0;34m)\u001b[0m\u001b[0;34m)\u001b[0m\u001b[0;34m\u001b[0m\u001b[0;34m\u001b[0m\u001b[0m\n",
      "\u001b[0;31mTypeError\u001b[0m: unhashable type: 'collections.defaultdict'"
     ]
    }
   ],
   "source": [
    "sorted_hT_nhF = sort_into_ranks('hT_nhF', condition_seg_hist)\n",
    "sorted_hT_nhT = sort_into_ranks('hT_nhT', condition_seg_hist)\n",
    "sorted_hF_nhF = sort_into_ranks('hF_nhF', condition_seg_hist)\n",
    "sorted_hF_nhT = sort_into_ranks('hF_nhT', condition_seg_hist)\n",
    "\n",
    "all_data = {'hT_nhT': {'2': [], '3': [], '4': [], '5': []}, \n",
    "        'hT_nhF': {'2': [], '3': [], '4': [], '5': []}, \n",
    "        'hF_nhT': {'2': [], '3': [], '4': [], '5': []}, \n",
    "        'hF_nhF': {'2': [], '3': [], '4': [], '5': []}}\n",
    "all_mean = {'hT_nhT': [], \n",
    "        'hT_nhF': [], \n",
    "        'hF_nhT': [], \n",
    "        'hF_nhF': []}\n",
    "all_std = {'hT_nhT': [], \n",
    "        'hT_nhF': [], \n",
    "        'hF_nhT': [], \n",
    "        'hF_nhF': []}\n",
    "\n",
    "conditions = ['hT_nhT', 'hT_nhF', 'hF_nhT', 'hF_nhF']\n",
    "\n",
    "# Create workable dictionary \n",
    "for i, cond in enumerate([sorted_hT_nhF, sorted_hT_nhT, sorted_hF_nhF, sorted_hF_nhT]):\n",
    "    key = conditions[i]\n",
    "    for r in [2, 3, 4, 5]:   \n",
    "        cosim = cosine_ranks(cond[str(r)])\n",
    "        all_data[key][str(r)].append(cosim[0])\n",
    "        all_mean[key].append(cosim[1])\n",
    "        all_std[key].append(cosim[2])\n",
    "\n",
    "# Perform t-test\n",
    "print('hT_nhT')\n",
    "print(stats.ttest_ind(all_data['hT_nhT']['2'][0], all_data[cond]['4'][0]))\n",
    "print('hT_nhF')\n",
    "print(stats.ttest_ind(all_data['hT_nhF']['2'][0], all_data[cond]['5'][0]))\n",
    "print('hF_nhT')\n",
    "print(stats.ttest_ind(all_data['hF_nhT']['2'][0], all_data[cond]['4'][0]))\n",
    "print('hF_nhF')\n",
    "print(stats.ttest_ind(all_data['hF_nhF']['2'][0], all_data[cond]['3'][0]))\n",
    "\n",
    "print()\n"
   ]
  },
  {
   "cell_type": "code",
   "execution_count": 151,
   "metadata": {},
   "outputs": [
    {
     "data": {
      "image/png": "[encoded data removed]",
      "text/plain": [
       "<Figure size 432x288 with 1 Axes>"
      ]
     },
     "metadata": {
      "needs_background": "light"
     },
     "output_type": "display_data"
    }
   ],
   "source": [
    "import matplotlib.pyplot as plt \n",
    "\n",
    "colors = ['blue', 'orange', 'green', 'red', 'purple']\n",
    "x_range = list(range(2,6))\n",
    "plot_conds = ['hT_nhT', 'hT_nhF','hF_nhT','hF_nhF']\n",
    "\n",
    "for i, condition in enumerate(plot_conds):\n",
    "    mean_vals = np.array(all_mean[condition])\n",
    "    std_vals = np.array(all_std[condition])\n",
    "    plt.plot(x_range, mean_vals, marker='o', label=condition, color=colors[i])\n",
    "#     plt.fill_between(x_range, mean_vals-std_vals, mean_vals+std_vals,\n",
    "#                     color=colors[i], alpha=.2)\n",
    "    \n",
    "    \n",
    "plt.title(\"Cosine similarity for different ranks\")\n",
    "plt.ylabel('Cosine similarity')\n",
    "plt.xlabel('Rank')\n",
    "plt.legend()\n",
    "plt.legend(bbox_to_anchor=(1.1, 1.05))\n",
    "plt.show()   \n",
    "    "
   ]
  },
  {
   "cell_type": "code",
   "execution_count": 125,
   "metadata": {},
   "outputs": [
    {
     "name": "stderr",
     "output_type": "stream",
     "text": [
      "/anaconda3/lib/python3.7/site-packages/numpy/core/fromnumeric.py:3367: RuntimeWarning: Degrees of freedom <= 0 for slice\n",
      "  **kwargs)\n",
      "/anaconda3/lib/python3.7/site-packages/numpy/core/_methods.py:130: RuntimeWarning: invalid value encountered in true_divide\n",
      "  ret, rcount, out=ret, casting='unsafe', subok=False)\n"
     ]
    },
    {
     "ename": "ValueError",
     "evalue": "operands could not be broadcast together with shapes (401,) (30,) ",
     "output_type": "error",
     "traceback": [
      "\u001b[0;31m---------------------------------------------------------------------------\u001b[0m",
      "\u001b[0;31mValueError\u001b[0m                                Traceback (most recent call last)",
      "\u001b[0;32m<ipython-input-125-1e459cd11dbd>\u001b[0m in \u001b[0;36m<module>\u001b[0;34m\u001b[0m\n\u001b[0;32m----> 1\u001b[0;31m \u001b[0mstats\u001b[0m\u001b[0;34m.\u001b[0m\u001b[0mttest_ind\u001b[0m\u001b[0;34m(\u001b[0m\u001b[0mall_data\u001b[0m\u001b[0;34m[\u001b[0m\u001b[0;34m'hT_nhF'\u001b[0m\u001b[0;34m]\u001b[0m\u001b[0;34m[\u001b[0m\u001b[0;34m'2'\u001b[0m\u001b[0;34m]\u001b[0m\u001b[0;34m,\u001b[0m \u001b[0mall_data\u001b[0m\u001b[0;34m[\u001b[0m\u001b[0;34m'hT_nhF'\u001b[0m\u001b[0;34m]\u001b[0m\u001b[0;34m[\u001b[0m\u001b[0;34m'4'\u001b[0m\u001b[0;34m]\u001b[0m\u001b[0;34m)\u001b[0m\u001b[0;34m\u001b[0m\u001b[0;34m\u001b[0m\u001b[0m\n\u001b[0m",
      "\u001b[0;32m/anaconda3/lib/python3.7/site-packages/scipy/stats/stats.py\u001b[0m in \u001b[0;36mttest_ind\u001b[0;34m(a, b, axis, equal_var, nan_policy)\u001b[0m\n\u001b[1;32m   4169\u001b[0m \u001b[0;34m\u001b[0m\u001b[0m\n\u001b[1;32m   4170\u001b[0m     \u001b[0;32mif\u001b[0m \u001b[0mequal_var\u001b[0m\u001b[0;34m:\u001b[0m\u001b[0;34m\u001b[0m\u001b[0;34m\u001b[0m\u001b[0m\n\u001b[0;32m-> 4171\u001b[0;31m         \u001b[0mdf\u001b[0m\u001b[0;34m,\u001b[0m \u001b[0mdenom\u001b[0m \u001b[0;34m=\u001b[0m \u001b[0m_equal_var_ttest_denom\u001b[0m\u001b[0;34m(\u001b[0m\u001b[0mv1\u001b[0m\u001b[0;34m,\u001b[0m \u001b[0mn1\u001b[0m\u001b[0;34m,\u001b[0m \u001b[0mv2\u001b[0m\u001b[0;34m,\u001b[0m \u001b[0mn2\u001b[0m\u001b[0;34m)\u001b[0m\u001b[0;34m\u001b[0m\u001b[0;34m\u001b[0m\u001b[0m\n\u001b[0m\u001b[1;32m   4172\u001b[0m     \u001b[0;32melse\u001b[0m\u001b[0;34m:\u001b[0m\u001b[0;34m\u001b[0m\u001b[0;34m\u001b[0m\u001b[0m\n\u001b[1;32m   4173\u001b[0m         \u001b[0mdf\u001b[0m\u001b[0;34m,\u001b[0m \u001b[0mdenom\u001b[0m \u001b[0;34m=\u001b[0m \u001b[0m_unequal_var_ttest_denom\u001b[0m\u001b[0;34m(\u001b[0m\u001b[0mv1\u001b[0m\u001b[0;34m,\u001b[0m \u001b[0mn1\u001b[0m\u001b[0;34m,\u001b[0m \u001b[0mv2\u001b[0m\u001b[0;34m,\u001b[0m \u001b[0mn2\u001b[0m\u001b[0;34m)\u001b[0m\u001b[0;34m\u001b[0m\u001b[0;34m\u001b[0m\u001b[0m\n",
      "\u001b[0;32m/anaconda3/lib/python3.7/site-packages/scipy/stats/stats.py\u001b[0m in \u001b[0;36m_equal_var_ttest_denom\u001b[0;34m(v1, n1, v2, n2)\u001b[0m\n\u001b[1;32m   3957\u001b[0m \u001b[0;32mdef\u001b[0m \u001b[0m_equal_var_ttest_denom\u001b[0m\u001b[0;34m(\u001b[0m\u001b[0mv1\u001b[0m\u001b[0;34m,\u001b[0m \u001b[0mn1\u001b[0m\u001b[0;34m,\u001b[0m \u001b[0mv2\u001b[0m\u001b[0;34m,\u001b[0m \u001b[0mn2\u001b[0m\u001b[0;34m)\u001b[0m\u001b[0;34m:\u001b[0m\u001b[0;34m\u001b[0m\u001b[0;34m\u001b[0m\u001b[0m\n\u001b[1;32m   3958\u001b[0m     \u001b[0mdf\u001b[0m \u001b[0;34m=\u001b[0m \u001b[0mn1\u001b[0m \u001b[0;34m+\u001b[0m \u001b[0mn2\u001b[0m \u001b[0;34m-\u001b[0m \u001b[0;36m2.0\u001b[0m\u001b[0;34m\u001b[0m\u001b[0;34m\u001b[0m\u001b[0m\n\u001b[0;32m-> 3959\u001b[0;31m     \u001b[0msvar\u001b[0m \u001b[0;34m=\u001b[0m \u001b[0;34m(\u001b[0m\u001b[0;34m(\u001b[0m\u001b[0mn1\u001b[0m \u001b[0;34m-\u001b[0m \u001b[0;36m1\u001b[0m\u001b[0;34m)\u001b[0m \u001b[0;34m*\u001b[0m \u001b[0mv1\u001b[0m \u001b[0;34m+\u001b[0m \u001b[0;34m(\u001b[0m\u001b[0mn2\u001b[0m \u001b[0;34m-\u001b[0m \u001b[0;36m1\u001b[0m\u001b[0;34m)\u001b[0m \u001b[0;34m*\u001b[0m \u001b[0mv2\u001b[0m\u001b[0;34m)\u001b[0m \u001b[0;34m/\u001b[0m \u001b[0mdf\u001b[0m\u001b[0;34m\u001b[0m\u001b[0;34m\u001b[0m\u001b[0m\n\u001b[0m\u001b[1;32m   3960\u001b[0m     \u001b[0mdenom\u001b[0m \u001b[0;34m=\u001b[0m \u001b[0mnp\u001b[0m\u001b[0;34m.\u001b[0m\u001b[0msqrt\u001b[0m\u001b[0;34m(\u001b[0m\u001b[0msvar\u001b[0m \u001b[0;34m*\u001b[0m \u001b[0;34m(\u001b[0m\u001b[0;36m1.0\u001b[0m \u001b[0;34m/\u001b[0m \u001b[0mn1\u001b[0m \u001b[0;34m+\u001b[0m \u001b[0;36m1.0\u001b[0m \u001b[0;34m/\u001b[0m \u001b[0mn2\u001b[0m\u001b[0;34m)\u001b[0m\u001b[0;34m)\u001b[0m\u001b[0;34m\u001b[0m\u001b[0;34m\u001b[0m\u001b[0m\n\u001b[1;32m   3961\u001b[0m     \u001b[0;32mreturn\u001b[0m \u001b[0mdf\u001b[0m\u001b[0;34m,\u001b[0m \u001b[0mdenom\u001b[0m\u001b[0;34m\u001b[0m\u001b[0;34m\u001b[0m\u001b[0m\n",
      "\u001b[0;31mValueError\u001b[0m: operands could not be broadcast together with shapes (401,) (30,) "
     ]
    }
   ],
   "source": [
    "stats.ttest_ind(all_data['hT_nhF']['2'], all_data['hT_nhF']['4'])"
   ]
  },
  {
   "cell_type": "code",
   "execution_count": null,
   "metadata": {},
   "outputs": [],
   "source": []
  }
 ],
 "metadata": {
  "kernelspec": {
   "display_name": "Python 3",
   "language": "python",
   "name": "python3"
  },
  "language_info": {
   "codemirror_mode": {
    "name": "ipython",
    "version": 3
   },
   "file_extension": ".py",
   "mimetype": "text/x-python",
   "name": "python",
   "nbconvert_exporter": "python",
   "pygments_lexer": "ipython3",
   "version": "3.7.3"
  }
 },
 "nbformat": 4,
 "nbformat_minor": 2
}
