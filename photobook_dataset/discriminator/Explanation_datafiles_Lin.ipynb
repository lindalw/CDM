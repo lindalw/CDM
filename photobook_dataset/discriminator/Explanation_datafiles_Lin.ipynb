{
 "cells": [
  {
   "cell_type": "code",
   "execution_count": 10,
   "metadata": {},
   "outputs": [],
   "source": [
    "import numpy as np\n",
    "import pickle\n",
    "import json"
   ]
  },
  {
   "cell_type": "markdown",
   "metadata": {},
   "source": [
    "## Data"
   ]
  },
  {
   "cell_type": "markdown",
   "metadata": {},
   "source": [
    "### Data/logs\n",
    "* data/logs contains the raw data with the games.\n",
    "\n",
    "Example of the raw data:\n",
    "\n",
    "{\"round_nr\": 4, \"score\": {\"A\": 3, \"B\": 3}, \"images\": {\"A\": [\"person_umbrella/COCO_train2014_000000210266.jpg\", \"person_umbrella/COCO_train2014_000000354843.jpg\", \"person_umbrella/COCO_train2014_000000489469.jpg\", \"person_umbrella/COCO_train2014_000000568064.jpg\", \"person_umbrella/COCO_train2014_000000438896.jpg\", \"person_umbrella/COCO_train2014_000000205931.jpg\"], \"B\": [\"person_umbrella/COCO_train2014_000000205931.jpg\", \"person_umbrella/COCO_train2014_000000122731.jpg\", \"person_umbrella/COCO_train2014_000000036282.jpg\", \"person_umbrella/COCO_train2014_000000568064.jpg\", \"person_umbrella/COCO_train2014_000000438896.jpg\", \"person_umbrella/COCO_train2014_000000354843.jpg\"]}, \"common\": [\"person_umbrella/COCO_train2014_000000568064.jpg\", \"person_umbrella/COCO_train2014_000000354843.jpg\", \"person_umbrella/COCO_train2014_000000205931.jpg\", \"person_umbrella/COCO_train2014_000000438896.jpg\"], \"highlighted\": {\"A\": [true, false, false, true, true, false], \"B\": [false, false, false, true, true, true]}, \"messages\": [{\"timestamp\": \"00:04:36.676254\", \"turn\": 0, \"speaker\": \"B\", \"agent_id\": 723, \"message\": \"pink umbrella gorilla cheese\"}, {\"timestamp\": \"00:04:55.009862\", \"turn\": 1, \"speaker\": \"A\", \"agent_id\": 444, \"message\": \"uhh...maybe? i have a pink umbrella. yellow-ish background. lots of people\"}, {\"timestamp\": \"00:04:56.239490\", \"turn\": 2, \"speaker\": \"B\", \"agent_id\": 723, \"message\": \"lady with open mouth under grey umbrella\"}, {\"timestamp\": \"00:05:01.026222\", \"turn\": 3, \"speaker\": \"B\", \"agent_id\": 723, \"message\": \"<selection> <com> person_umbrella/COCO_train2014_000000354843.jpg\"}, {\"timestamp\": \"00:05:04.625624\", \"turn\": 3, \"speaker\": \"A\", \"agent_id\": 444, \"message\": \"yes to :-D lady\"}, {\"timestamp\": \"00:05:06.995750\", \"turn\": 4, \"speaker\": \"A\", \"agent_id\": 444, \"message\": \"<selection> <com> person_umbrella/COCO_train2014_000000438896.jpg\"}, {\"timestamp\": \"00:05:07.283234\", \"turn\": 4, \"speaker\": \"B\", \"agent_id\": 723, \"message\": \"asain smoke poka dot\"}, {\"timestamp\": \"00:05:09.286057\", \"turn\": 5, \"speaker\": \"B\", \"agent_id\": 723, \"message\": \"<selection> <com> person_umbrella/COCO_train2014_000000438896.jpg\"},\n",
    "     "
   ]
  },
  {
   "cell_type": "markdown",
   "metadata": {},
   "source": [
    "### Data splits\n",
    "\n",
    "Splits the data into train, test, val and dev set. Don't know what the numbers correspond to."
   ]
  },
  {
   "cell_type": "code",
   "execution_count": 110,
   "metadata": {},
   "outputs": [],
   "source": [
    "with open('data/data_splits.json') as json_file:\n",
    "    data_splits = json.load(json_file)"
   ]
  },
  {
   "cell_type": "code",
   "execution_count": 113,
   "metadata": {},
   "outputs": [
    {
     "data": {
      "text/plain": [
       "['train', 'test', 'val', 'dev']"
      ]
     },
     "execution_count": 113,
     "metadata": {},
     "output_type": "execute_result"
    }
   ],
   "source": [
    "list(data_splits)"
   ]
  },
  {
   "cell_type": "code",
   "execution_count": 115,
   "metadata": {},
   "outputs": [
    {
     "data": {
      "text/plain": [
       "[1535,\n",
       " 1429,\n",
       " 1377,\n",
       " 121,\n",
       " 474,\n",
       " 473,\n",
       " 109,\n",
       " 2413,\n",
       " 1010,\n",
       " 986,\n",
       " 2311,\n",
       " 1832,\n",
       " 1873,\n",
       " 1144,\n",
       " 2479,\n",
       " 1139,\n",
       " 324,\n",
       " 494,\n",
       " 962,\n",
       " 961,\n",
       " 1558,\n",
       " 1984,\n",
       " 1576,\n",
       " 516,\n",
       " 2159,\n",
       " 502,\n",
       " 418,\n",
       " 2255,\n",
       " 406,\n",
       " 1284,\n",
       " 2258,\n",
       " 1418,\n",
       " 1733,\n",
       " 271,\n",
       " 1167,\n",
       " 2241,\n",
       " 1673,\n",
       " 1232,\n",
       " 570,\n",
       " 39,\n",
       " 87,\n",
       " 647,\n",
       " 2281,\n",
       " 2282,\n",
       " 615,\n",
       " 393,\n",
       " 1597,\n",
       " 2430,\n",
       " 1119,\n",
       " 1711,\n",
       " 1116,\n",
       " 104,\n",
       " 211,\n",
       " 1028,\n",
       " 165,\n",
       " 221,\n",
       " 1415,\n",
       " 1498,\n",
       " 195,\n",
       " 886,\n",
       " 551,\n",
       " 614,\n",
       " 1919,\n",
       " 1830,\n",
       " 1706,\n",
       " 953,\n",
       " 2339,\n",
       " 1883,\n",
       " 2338,\n",
       " 2483,\n",
       " 1222,\n",
       " 79,\n",
       " 2130,\n",
       " 1721,\n",
       " 2211,\n",
       " 1619,\n",
       " 80,\n",
       " 983,\n",
       " 1998,\n",
       " 455,\n",
       " 454,\n",
       " 2371,\n",
       " 1072,\n",
       " 41,\n",
       " 1753,\n",
       " 28,\n",
       " 1746,\n",
       " 837,\n",
       " 1725,\n",
       " 625,\n",
       " 1408,\n",
       " 728,\n",
       " 601,\n",
       " 2401,\n",
       " 677,\n",
       " 2243,\n",
       " 1337,\n",
       " 850,\n",
       " 2242,\n",
       " 1626,\n",
       " 2273,\n",
       " 851,\n",
       " 826,\n",
       " 967,\n",
       " 1886,\n",
       " 1897,\n",
       " 1952,\n",
       " 2284,\n",
       " 1665,\n",
       " 322,\n",
       " 368,\n",
       " 1613,\n",
       " 125,\n",
       " 773,\n",
       " 2108,\n",
       " 1855,\n",
       " 2161,\n",
       " 2388,\n",
       " 307,\n",
       " 1244,\n",
       " 2351,\n",
       " 609,\n",
       " 1824,\n",
       " 1593,\n",
       " 1936,\n",
       " 2197,\n",
       " 2218,\n",
       " 370,\n",
       " 499,\n",
       " 242,\n",
       " 831,\n",
       " 1203,\n",
       " 1635,\n",
       " 451,\n",
       " 1027,\n",
       " 2048,\n",
       " 1610,\n",
       " 1636,\n",
       " 914,\n",
       " 433,\n",
       " 1976,\n",
       " 822,\n",
       " 1468,\n",
       " 226,\n",
       " 933,\n",
       " 949,\n",
       " 86,\n",
       " 1130,\n",
       " 1192,\n",
       " 122,\n",
       " 975,\n",
       " 1685,\n",
       " 624,\n",
       " 25,\n",
       " 2482,\n",
       " 1702,\n",
       " 817,\n",
       " 1803,\n",
       " 2128,\n",
       " 900,\n",
       " 2201,\n",
       " 2202,\n",
       " 1587,\n",
       " 2143,\n",
       " 1745,\n",
       " 2220,\n",
       " 143,\n",
       " 127,\n",
       " 1107,\n",
       " 1075,\n",
       " 1281,\n",
       " 1120,\n",
       " 61,\n",
       " 1064,\n",
       " 1379,\n",
       " 1172,\n",
       " 1378,\n",
       " 763,\n",
       " 2416,\n",
       " 1690,\n",
       " 649,\n",
       " 265,\n",
       " 16,\n",
       " 266,\n",
       " 212,\n",
       " 1108,\n",
       " 1150,\n",
       " 2305,\n",
       " 1185,\n",
       " 2424,\n",
       " 660,\n",
       " 1847,\n",
       " 1441,\n",
       " 2429,\n",
       " 1018,\n",
       " 853,\n",
       " 868,\n",
       " 2437,\n",
       " 867,\n",
       " 648,\n",
       " 1785,\n",
       " 566,\n",
       " 1920,\n",
       " 2063,\n",
       " 585,\n",
       " 1,\n",
       " 2375,\n",
       " 1932,\n",
       " 1791,\n",
       " 2260,\n",
       " 2470,\n",
       " 1581,\n",
       " 1604,\n",
       " 1538,\n",
       " 2463,\n",
       " 296,\n",
       " 2481,\n",
       " 2190,\n",
       " 1507,\n",
       " 1223,\n",
       " 1455,\n",
       " 1511,\n",
       " 634,\n",
       " 1361,\n",
       " 408,\n",
       " 2247,\n",
       " 1644,\n",
       " 2441,\n",
       " 2155,\n",
       " 340,\n",
       " 1475,\n",
       " 2268,\n",
       " 2200,\n",
       " 1386,\n",
       " 2198,\n",
       " 2070,\n",
       " 42,\n",
       " 1589,\n",
       " 1383,\n",
       " 1712,\n",
       " 422,\n",
       " 110,\n",
       " 2098,\n",
       " 1530,\n",
       " 1101,\n",
       " 1516,\n",
       " 1054,\n",
       " 621,\n",
       " 2228,\n",
       " 1540,\n",
       " 2229,\n",
       " 1444,\n",
       " 1345,\n",
       " 1280,\n",
       " 1332,\n",
       " 684,\n",
       " 1679,\n",
       " 180,\n",
       " 1834,\n",
       " 1602,\n",
       " 176,\n",
       " 712,\n",
       " 2183,\n",
       " 2172,\n",
       " 1762,\n",
       " 399,\n",
       " 550,\n",
       " 1555,\n",
       " 1546,\n",
       " 683,\n",
       " 1091,\n",
       " 497,\n",
       " 1035,\n",
       " 1833,\n",
       " 1826,\n",
       " 1056,\n",
       " 1033,\n",
       " 1349,\n",
       " 308,\n",
       " 51,\n",
       " 968,\n",
       " 424,\n",
       " 1577,\n",
       " 1913,\n",
       " 348,\n",
       " 1906,\n",
       " 197,\n",
       " 1738,\n",
       " 2426,\n",
       " 1519,\n",
       " 1155,\n",
       " 2312,\n",
       " 1782,\n",
       " 229,\n",
       " 719,\n",
       " 411,\n",
       " 1100,\n",
       " 1098,\n",
       " 483,\n",
       " 1105,\n",
       " 123,\n",
       " 866,\n",
       " 1154,\n",
       " 1454,\n",
       " 1308,\n",
       " 1684,\n",
       " 1837,\n",
       " 372,\n",
       " 700,\n",
       " 1191,\n",
       " 1891,\n",
       " 256,\n",
       " 320,\n",
       " 701,\n",
       " 1687,\n",
       " 1117,\n",
       " 395,\n",
       " 1016,\n",
       " 1113,\n",
       " 376,\n",
       " 78,\n",
       " 32,\n",
       " 2044,\n",
       " 7,\n",
       " 9,\n",
       " 1743,\n",
       " 1271,\n",
       " 1691,\n",
       " 2023,\n",
       " 409,\n",
       " 1009,\n",
       " 757,\n",
       " 756,\n",
       " 785,\n",
       " 472,\n",
       " 2034,\n",
       " 2095,\n",
       " 2223,\n",
       " 2238,\n",
       " 2125,\n",
       " 1529,\n",
       " 373,\n",
       " 2124,\n",
       " 2006,\n",
       " 1245,\n",
       " 659,\n",
       " 1601,\n",
       " 796,\n",
       " 1237,\n",
       " 1688,\n",
       " 918,\n",
       " 1068,\n",
       " 729,\n",
       " 1253,\n",
       " 2478,\n",
       " 733,\n",
       " 1914,\n",
       " 557,\n",
       " 1703,\n",
       " 1197,\n",
       " 2235,\n",
       " 2316,\n",
       " 2041,\n",
       " 1524,\n",
       " 2193,\n",
       " 838,\n",
       " 1887,\n",
       " 1643,\n",
       " 1324,\n",
       " 937,\n",
       " 626,\n",
       " 2168,\n",
       " 417,\n",
       " 611]"
      ]
     },
     "execution_count": 115,
     "metadata": {},
     "output_type": "execute_result"
    }
   ],
   "source": [
    "data_splits['test']"
   ]
  },
  {
   "cell_type": "markdown",
   "metadata": {},
   "source": [
    "Looking at the test data, we have chains, ids, sections and segments (just as the training data has)"
   ]
  },
  {
   "cell_type": "markdown",
   "metadata": {},
   "source": [
    "### test_sections.pickle"
   ]
  },
  {
   "cell_type": "markdown",
   "metadata": {},
   "source": [
    ":((( probably the segments are in here"
   ]
  },
  {
   "cell_type": "code",
   "execution_count": 120,
   "metadata": {},
   "outputs": [
    {
     "ename": "ModuleNotFoundError",
     "evalue": "No module named 'utils.log_processor'",
     "output_type": "error",
     "traceback": [
      "\u001b[1;31m---------------------------------------------------------------------------\u001b[0m",
      "\u001b[1;31mModuleNotFoundError\u001b[0m                       Traceback (most recent call last)",
      "\u001b[1;32m<ipython-input-120-b2a63f106e57>\u001b[0m in \u001b[0;36m<module>\u001b[1;34m\u001b[0m\n\u001b[1;32m----> 1\u001b[1;33m \u001b[0msections\u001b[0m \u001b[1;33m=\u001b[0m \u001b[0mpickle\u001b[0m\u001b[1;33m.\u001b[0m\u001b[0mload\u001b[0m\u001b[1;33m(\u001b[0m \u001b[0mopen\u001b[0m\u001b[1;33m(\u001b[0m \u001b[1;34m\"data/test_sections.pickle\"\u001b[0m\u001b[1;33m,\u001b[0m \u001b[1;34m\"rb\"\u001b[0m \u001b[1;33m)\u001b[0m \u001b[1;33m)\u001b[0m\u001b[1;33m\u001b[0m\u001b[1;33m\u001b[0m\u001b[0m\n\u001b[0m",
      "\u001b[1;31mModuleNotFoundError\u001b[0m: No module named 'utils.log_processor'"
     ]
    }
   ],
   "source": [
    "sections = pickle.load( open( \"data/test_sections.pickle\", \"rb\" ) )"
   ]
  },
  {
   "cell_type": "markdown",
   "metadata": {},
   "source": [
    "### Test segments\n",
    "Its a list of length 6801, where each element is a dictionary.\n",
    "\n",
    "Dict has four keys: ['segment', 'image_set', 'targets', 'length']\n",
    "\n",
    "* Segment - ....\n",
    "* image set - image IDs in the set that is shown, corresponds to imageid in chains and vectors files. There are around 8, 9 or 10 images, possibly the unique images.\n",
    "* targets - the index of the target image, probably index of the image set. Sometimes there are multiple targets\n",
    "* length - length of the segment, i.e. number of utterances?\n",
    "\n",
    "\n"
   ]
  },
  {
   "cell_type": "code",
   "execution_count": 57,
   "metadata": {},
   "outputs": [],
   "source": [
    "with open('data/test_segments.json') as json_file:\n",
    "    data_seg = json.load(json_file)"
   ]
  },
  {
   "cell_type": "code",
   "execution_count": 58,
   "metadata": {},
   "outputs": [
    {
     "name": "stdout",
     "output_type": "stream",
     "text": [
      "number of datapoints: 6801\n"
     ]
    }
   ],
   "source": [
    "print('number of datapoints:', len(data_seg))"
   ]
  },
  {
   "cell_type": "code",
   "execution_count": 59,
   "metadata": {},
   "outputs": [
    {
     "data": {
      "text/plain": [
       "{'segment': [5,\n",
       "  212,\n",
       "  4,\n",
       "  166,\n",
       "  5,\n",
       "  12,\n",
       "  22,\n",
       "  782,\n",
       "  29,\n",
       "  234,\n",
       "  213,\n",
       "  10,\n",
       "  4,\n",
       "  416,\n",
       "  14,\n",
       "  12,\n",
       "  22,\n",
       "  7,\n",
       "  6,\n",
       "  49,\n",
       "  11,\n",
       "  6,\n",
       "  155,\n",
       "  295,\n",
       "  11,\n",
       "  6,\n",
       "  811,\n",
       "  16,\n",
       "  9,\n",
       "  95,\n",
       "  10,\n",
       "  5,\n",
       "  17,\n",
       "  8,\n",
       "  12],\n",
       " 'image_set': ['93469',\n",
       "  '380128',\n",
       "  '14238',\n",
       "  '259745',\n",
       "  '524866',\n",
       "  '341060',\n",
       "  '483794',\n",
       "  '96757'],\n",
       " 'targets': [5],\n",
       " 'length': 35}"
      ]
     },
     "execution_count": 59,
     "metadata": {},
     "output_type": "execute_result"
    }
   ],
   "source": [
    "data_seg[0]"
   ]
  },
  {
   "cell_type": "code",
   "execution_count": 60,
   "metadata": {},
   "outputs": [
    {
     "data": {
      "text/plain": [
       "[[5], [0], [6, 2, 3], [1], [4], [2], [7], [6], [4, 6], [8]]"
      ]
     },
     "execution_count": 60,
     "metadata": {},
     "output_type": "execute_result"
    }
   ],
   "source": [
    "# Targets show the indices of the targets, \n",
    "targets = []\n",
    "for i in range(10):\n",
    "    targets.append(data_seg[i]['targets'])\n",
    "targets"
   ]
  },
  {
   "cell_type": "code",
   "execution_count": 61,
   "metadata": {},
   "outputs": [
    {
     "data": {
      "text/plain": [
       "[8, 8, 8, 10, 10, 10, 10, 10, 9, 9]"
      ]
     },
     "execution_count": 61,
     "metadata": {},
     "output_type": "execute_result"
    }
   ],
   "source": [
    "# Targets show the indices of the targets, \n",
    "segments = []\n",
    "for i in range(10):\n",
    "    segments.append(len(data_seg[i]['image_set']))\n",
    "segments"
   ]
  },
  {
   "cell_type": "markdown",
   "metadata": {},
   "source": [
    "### Test chains\n",
    "Contains 2811 datapoints\n",
    "\n",
    "Each datapoints is a dict with ['game_id', 'chain_id', 'target', 'segments', 'lengths']\n",
    "\n",
    "* Game_id\n",
    "* chain_id - id for this chain of utterances in this game\n",
    "* target - target image id, that corresponds with the id in segments and vectors\n",
    "* segments - a list of indices that correspond to the indices of the test_segments.json file\n",
    "* lengths - lengths of the separate segments"
   ]
  },
  {
   "cell_type": "code",
   "execution_count": 54,
   "metadata": {},
   "outputs": [],
   "source": [
    "with open('data/test_chains.json') as json_file:\n",
    "    data_chain = json.load(json_file)"
   ]
  },
  {
   "cell_type": "code",
   "execution_count": 55,
   "metadata": {},
   "outputs": [
    {
     "data": {
      "text/plain": [
       "2811"
      ]
     },
     "execution_count": 55,
     "metadata": {},
     "output_type": "execute_result"
    }
   ],
   "source": [
    "len(data_chain)"
   ]
  },
  {
   "cell_type": "code",
   "execution_count": 68,
   "metadata": {},
   "outputs": [
    {
     "data": {
      "text/plain": [
       "{'game_id': '3R2UR8A0IBELL07JV1VG7ISBNQAOX23WMINLGALC18GY2NUMUBSANWXRHCAO',\n",
       " 'chain_id': 3279,\n",
       " 'target': '341060',\n",
       " 'segments': [0, 7, 8],\n",
       " 'lengths': [35, 15, 33]}"
      ]
     },
     "execution_count": 68,
     "metadata": {},
     "output_type": "execute_result"
    }
   ],
   "source": [
    "data_chain[0]"
   ]
  },
  {
   "cell_type": "markdown",
   "metadata": {},
   "source": [
    "Segments correspond to the ids in the test_segment file, looking at the lenght. 341060 is one of the images in data_seg[0]"
   ]
  },
  {
   "cell_type": "code",
   "execution_count": 72,
   "metadata": {},
   "outputs": [
    {
     "data": {
      "text/plain": [
       "(35, 15, 33)"
      ]
     },
     "execution_count": 72,
     "metadata": {},
     "output_type": "execute_result"
    }
   ],
   "source": [
    "data_seg[0]['length'], data_seg[7]['length'], data_seg[8]['length']"
   ]
  },
  {
   "cell_type": "markdown",
   "metadata": {},
   "source": [
    "### Test ids"
   ]
  },
  {
   "cell_type": "markdown",
   "metadata": {},
   "source": [
    "A list of game_ids. Don't know if the index corresponds to something.."
   ]
  },
  {
   "cell_type": "code",
   "execution_count": 105,
   "metadata": {},
   "outputs": [],
   "source": [
    "with open('data/test_ids.json') as json_file:\n",
    "    data_ids = json.load(json_file)"
   ]
  },
  {
   "cell_type": "code",
   "execution_count": 106,
   "metadata": {},
   "outputs": [
    {
     "data": {
      "text/plain": [
       "374"
      ]
     },
     "execution_count": 106,
     "metadata": {},
     "output_type": "execute_result"
    }
   ],
   "source": [
    "len(data_ids)"
   ]
  },
  {
   "cell_type": "code",
   "execution_count": 109,
   "metadata": {},
   "outputs": [
    {
     "data": {
      "text/plain": [
       "['3Z7EFSHGNACKCBAG5WMPCIYUZO6XCI39JEC7537VZS8M5L5HL7OX19JDYVCD',\n",
       " '3RWE2M8QWI8V6P1WRA6WJF5VNDKN0Z33JKGHPFYDSS9383GFTUHCC8QGLNMA',\n",
       " '3A1PQ49WVIF33I03KVFJS0R96RAH1C3018Q3ZVOJOCM0R6CJK6H5MIXUERA7',\n",
       " '3SB5N7Y3O42PWXKA46T1TVWYJIZ0G031EUONYN2W1THB2OVMUYJXVQ400OV0',\n",
       " '39PAAFCODNY9U37WR3GXD71D47STV13DY46V3X3QGQB7HRKGGM6T10BG855J']"
      ]
     },
     "execution_count": 109,
     "metadata": {},
     "output_type": "execute_result"
    }
   ],
   "source": [
    "data_ids[:5]"
   ]
  },
  {
   "cell_type": "markdown",
   "metadata": {},
   "source": [
    "### Vectors file\n",
    "containing image feature vectors.\n",
    "\n",
    "vectors is a dict with 358 entries, with as key the image id. Each image is a featurevector of 2048 dimension"
   ]
  },
  {
   "cell_type": "code",
   "execution_count": 73,
   "metadata": {},
   "outputs": [],
   "source": [
    "with open('data/vectors.json') as json_file:\n",
    "    vectors = json.load(json_file)"
   ]
  },
  {
   "cell_type": "code",
   "execution_count": 89,
   "metadata": {},
   "outputs": [
    {
     "name": "stdout",
     "output_type": "stream",
     "text": [
      "number of images: 358\n"
     ]
    }
   ],
   "source": [
    "print('number of images:', len(vectors))"
   ]
  },
  {
   "cell_type": "code",
   "execution_count": 90,
   "metadata": {},
   "outputs": [
    {
     "name": "stdout",
     "output_type": "stream",
     "text": [
      "Image keys ['34815', '86189', '98596', '256981', '266311', '293658', '326202', '386326', '386722', '441488']\n"
     ]
    }
   ],
   "source": [
    "print('Image keys',list(vectors)[:10])"
   ]
  },
  {
   "cell_type": "code",
   "execution_count": 95,
   "metadata": {},
   "outputs": [
    {
     "name": "stdout",
     "output_type": "stream",
     "text": [
      "length of the feature vector for an image: 2048\n"
     ]
    }
   ],
   "source": [
    "print('length of the feature vector for an image:', len(vectors['341060']))"
   ]
  },
  {
   "cell_type": "code",
   "execution_count": 94,
   "metadata": {},
   "outputs": [
    {
     "name": "stdout",
     "output_type": "stream",
     "text": [
      "part of the feature vec\n"
     ]
    },
    {
     "data": {
      "text/plain": [
       "[0.5908005833625793,\n",
       " 0.0636805072426796,\n",
       " 0.26698243618011475,\n",
       " 0.16566187143325806,\n",
       " 0.29381296038627625,\n",
       " 0.2509632706642151,\n",
       " 0.013470017351210117,\n",
       " 0.08392883837223053,\n",
       " 0.10088781267404556,\n",
       " 0.036955565214157104,\n",
       " 0.7541999816894531,\n",
       " 0.319126158952713,\n",
       " 0.3404830992221832,\n",
       " 0.17770926654338837,\n",
       " 0.5060359835624695]"
      ]
     },
     "execution_count": 94,
     "metadata": {},
     "output_type": "execute_result"
    }
   ],
   "source": [
    "print('part of the feature vec')\n",
    "vectors['341060'][:15]"
   ]
  },
  {
   "cell_type": "markdown",
   "metadata": {},
   "source": [
    "### Vocab\n",
    "vocab.csv is the vocab, with the names and probably number of times the word occurs"
   ]
  },
  {
   "cell_type": "code",
   "execution_count": 71,
   "metadata": {},
   "outputs": [
    {
     "name": "stdout",
     "output_type": "stream",
     "text": [
      "a,29887\n",
      "\n",
      "have,28495\n",
      "\n",
      "i,25627\n",
      "\n",
      "the,24977\n",
      "\n",
      "?,20633\n",
      "\n",
      "with,19298\n",
      "\n",
      "do,14706\n",
      "\n",
      "no,14704\n",
      "\n",
      ".,14641\n",
      "\n",
      "in,13812\n",
      "\n"
     ]
    }
   ],
   "source": [
    "with open('data/vocab.csv') as file:\n",
    "    counter = 0\n",
    "    for line in file:\n",
    "        print(line)\n",
    "        counter += 1\n",
    "        if counter == 10:\n",
    "            break"
   ]
  },
  {
   "cell_type": "markdown",
   "metadata": {},
   "source": [
    "## Models\n",
    "The training scripts also have code for analysis of the models using the test data.\n",
    "TODO: See how this works, cause I think we only really need to change our test dataset"
   ]
  }
 ],
 "metadata": {
  "kernelspec": {
   "display_name": "Python 3",
   "language": "python",
   "name": "python3"
  },
  "language_info": {
   "codemirror_mode": {
    "name": "ipython",
    "version": 3
   },
   "file_extension": ".py",
   "mimetype": "text/x-python",
   "name": "python",
   "nbconvert_exporter": "python",
   "pygments_lexer": "ipython3",
   "version": "3.7.6"
  }
 },
 "nbformat": 4,
 "nbformat_minor": 2
}
